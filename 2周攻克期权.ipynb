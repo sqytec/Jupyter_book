{
 "cells": [
  {
   "cell_type": "markdown",
   "id": "da21e5fe2262b4b5",
   "metadata": {},
   "source": [
    "# 期权定价原理\n",
    "## B-S模型"
   ]
  },
  {
   "cell_type": "markdown",
   "id": "395c8b14318ceeda",
   "metadata": {},
   "source": [
    "### 定义\n",
    "- 股票价格过程服从正太分布模型\n",
    "- 在期权有效期内，无风险利率和标的证券的波动率是恒定的\n",
    "- 市场无摩擦，即不存在税收和交易成本，所有证券都是无限可分的\n",
    "- 标的证券在期权有效期内无红利及其他所得(**改假设后被放弃**)\n",
    "- 市场不存在无风险套利机会\n",
    "- 证券交易是连续的\n",
    "- 投资者能够以无风险利率借贷"
   ]
  },
  {
   "cell_type": "markdown",
   "id": "a821ca76c198de01",
   "metadata": {},
   "source": [
    "# 希腊字母：期权交易参数\n",
    "## Delta\n",
    "### 定义\n",
    "**衡量标的资产价格变化对期权价格的影响，如标的资产价格变动1源，期权Delta值为0.5，则期权价格变动0.5元**\n"
   ]
  },
  {
   "cell_type": "markdown",
   "id": "8f069c44512bef68",
   "metadata": {
    "collapsed": false
   },
   "source": [
    "## Gamma\n",
    "### 定义\n",
    "**衡量标的资产价格变化对Delta的影响，间接度量了标的资产价格变化对期权价格的二阶影响，如标的资产价格变动1元，期权Gamma值为0.25，则期权Delta变动0.25元。**"
   ]
  },
  {
   "cell_type": "markdown",
   "id": "b3278b08964fbc51",
   "metadata": {
    "collapsed": false
   },
   "source": [
    "## Vaga\n",
    "### 定义\n",
    "**衡量隐含波动率变化对期权价格的影响，如隐含波动率变动1%，期权Vega值为0.2，则期权价格变动0.2元。**"
   ]
  },
  {
   "cell_type": "markdown",
   "id": "147f6f81e0d44d70",
   "metadata": {
    "collapsed": false
   },
   "source": [
    "## Theta\n",
    "### 定义\n",
    "**衡量到期时间变化对期权价格的影响，如单位变动1单位，**"
   ]
  },
  {
   "cell_type": "code",
   "execution_count": 1,
   "id": "b674afe8919d388e",
   "metadata": {
    "ExecuteTime": {
     "end_time": "2023-08-29T10:42:27.179862Z",
     "start_time": "2023-08-29T10:42:27.178171Z"
    },
    "collapsed": false
   },
   "outputs": [
    {
     "name": "stdout",
     "output_type": "stream",
     "text": [
      "+---+-----------------+---------------------+--------------------+---------------------+--------------------+\n",
      "|   | 50ETF到期收盘价 |    认购期权收益     |    认沽期权收益    |     期权总收益      |    只买标的收益    |\n",
      "+---+-----------------+---------------------+--------------------+---------------------+--------------------+\n",
      "| 0 |      2.24       |       -4030.0       | 2160.0000000000214 | -1869.9999999999786 | -2399.999999999942 |\n",
      "| 1 |      2.245      |       -4030.0       | 2660.000000000011  | -1369.999999999989  | -1899.999999999971 |\n",
      "| 2 |      2.25       |       -4030.0       |       3160.0       |       -870.0        | -1399.999999999971 |\n",
      "| 3 |      2.255      | -3530.000000000011  |       3160.0       | -370.0000000000109  | -899.9999999999709 |\n",
      "| 4 |      2.26       | -3030.0000000000214 |       3160.0       | 129.99999999997863  |       -400.0       |\n",
      "| 5 |      2.265      | -2529.9999999999873 |       3160.0       |  630.0000000000127  | 100.0000000000291  |\n",
      "| 6 |      2.27       | -2029.9999999999982 |       3160.0       | 1130.0000000000018  | 600.0000000000291  |\n",
      "+---+-----------------+---------------------+--------------------+---------------------+--------------------+\n"
     ]
    }
   ],
   "source": [
    "import pandas as pd\n",
    "import numpy as np\n",
    "from tabulate import tabulate\n",
    "\n",
    "# 买入认购期权收益公式\n",
    "dCProfit = 0\t# 认购期权收益\n",
    "dPProfit = 0\t# 认沽期权收益\n",
    "dStkProfit = 0\t# 标的收益\n",
    "dStkCost = 100000 * 2.264\t# 只买标的成本\n",
    "# d50ETFClosePrice = 0\t# 50ETF收盘价\n",
    "d50ETFExePrice = 2.25\t# 50ETF期权行权价\n",
    "dCPremium = -4030\t# 认购期权权利金\n",
    "dPPremium = 3160\t# 认沽期权权利金\n",
    "dOptNum = 10\t# 50ETF期权合约张数\n",
    "listResult = [] # 计算结果列表\n",
    "\n",
    "def calCombineStkC(d50ETFClosePrice):\n",
    "    if d50ETFClosePrice <= d50ETFExePrice:\n",
    "        dCProfit = dCPremium\n",
    "        dPProfit = dPPremium + dOptNum * 10000 * (d50ETFClosePrice - d50ETFExePrice)\n",
    "    else:\n",
    "        dCProfit = dCPremium + dOptNum * 10000 * (d50ETFClosePrice - d50ETFExePrice)\n",
    "        dPProfit = dPPremium\n",
    "    dStkProfit = d50ETFClosePrice * 100000 - dStkCost\n",
    "    return (d50ETFClosePrice,dCProfit,dPProfit,dCProfit+dPProfit,dStkProfit)\n",
    "\n",
    "\n",
    "all_50etf_close_price = (2.24,2.245,2.25,2.255,2.26,2.265,2.27)\n",
    "for d50ETFClosePrice in all_50etf_close_price:\n",
    "    listResult.append(calCombineStkC(d50ETFClosePrice))\n",
    "\n",
    "df = pd.DataFrame(\n",
    "    listResult,\n",
    "    columns=['50ETF到期收盘价','认购期权收益','认沽期权收益','期权总收益','只买标的收益']\n",
    ")\n",
    "print(tabulate(df, headers = 'keys', tablefmt = 'pretty'))"
   ]
  },
  {
   "cell_type": "code",
   "execution_count": null,
   "id": "4fd24affbb29b647",
   "metadata": {
    "collapsed": false
   },
   "outputs": [],
   "source": []
  }
 ],
 "metadata": {
  "kernelspec": {
   "display_name": "base",
   "language": "python",
   "name": "base"
  },
  "language_info": {
   "codemirror_mode": {
    "name": "ipython",
    "version": 3
   },
   "file_extension": ".py",
   "mimetype": "text/x-python",
   "name": "python",
   "nbconvert_exporter": "python",
   "pygments_lexer": "ipython3",
   "version": "3.11.3"
  }
 },
 "nbformat": 4,
 "nbformat_minor": 5
}
