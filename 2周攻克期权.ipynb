{
 "cells": [
  {
   "cell_type": "markdown",
   "id": "da21e5fe2262b4b5",
   "metadata": {},
   "source": [
    "# 期权定价原理\n",
    "## B-S模型"
   ]
  },
  {
   "cell_type": "markdown",
   "id": "395c8b14318ceeda",
   "metadata": {},
   "source": [
    "### 定义\n",
    "- 股票价格过程服从正太分布模型\n",
    "- 在期权有效期内，无风险利率和标的证券的波动率是恒定的\n",
    "- 市场无摩擦，即不存在税收和交易成本，所有证券都是无限可分的\n",
    "- 标的证券在期权有效期内无红利及其他所得(**改假设后被放弃**)\n",
    "- 市场不存在无风险套利机会\n",
    "- 证券交易是连续的\n",
    "- 投资者能够以无风险利率借贷"
   ]
  },
  {
   "cell_type": "markdown",
   "id": "a821ca76c198de01",
   "metadata": {},
   "source": [
    "# 希腊字母：期权交易参数\n",
    "## Delta\n",
    "### 定义\n",
    "**衡量标的资产价格变化对期权价格的影响，如标的资产价格变动1源，期权Delta值为0.5，则期权价格变动0.5元**"
   ]
  },
  {
   "cell_type": "markdown",
   "id": "6dab28f5",
   "metadata": {},
   "source": [
    "**在影响期权价格的众多因素中，标的资产价格的影响作用最为直接，Delta衡量的就是标的资产价格变化对期权价格的影响，Delta绝对值越接近1，期权就越实值。**"
   ]
  },
  {
   "cell_type": "markdown",
   "id": "0c56d292",
   "metadata": {},
   "source": [
    "**实值期权（in-the-money）Delta绝对值大于0.5，虚值期权（out-the-money）Delta绝对值小于0.5，平值期权（at-the-money）Delta绝对值在0.5附近。**"
   ]
  },
  {
   "cell_type": "markdown",
   "id": "21920b84",
   "metadata": {},
   "source": [
    "### 公式"
   ]
  },
  {
   "cell_type": "markdown",
   "id": "d70eca0a",
   "metadata": {},
   "source": [
    "Delta = $期权价格变化 \\over 标的资产变化$"
   ]
  },
  {
   "cell_type": "markdown",
   "id": "8f069c44512bef68",
   "metadata": {
    "collapsed": false
   },
   "source": [
    "## Gamma\n",
    "### 定义\n",
    "**衡量标的资产价格变化对Delta的影响，间接度量了标的资产价格变化对期权价格的二阶影响，如标的资产价格变动1元，期权Gamma值为0.25，则期权Delta变动0.25元。**"
   ]
  },
  {
   "cell_type": "markdown",
   "id": "fbf73b5b",
   "metadata": {},
   "source": [
    "**Gamma衡量标的资产价格变化对Delta的影响，是波动性交易收入的主要来源，平值期权的Gamma值较大，且随期权到期日临近会趋于无穷大，卖出平值期权的投资者会面临“大头针”风险。**"
   ]
  },
  {
   "cell_type": "markdown",
   "id": "55660d2c",
   "metadata": {},
   "source": [
    "**认购与认沽期权的Gamma值相同，期权权利方为正值，义务方为负值。**"
   ]
  },
  {
   "cell_type": "markdown",
   "id": "b3278b08964fbc51",
   "metadata": {
    "collapsed": false
   },
   "source": [
    "## Vaga\n",
    "### 定义\n",
    "**衡量隐含波动率变化对期权价格的影响，如隐含波动率变动1%，期权Vega值为0.2，则期权价格变动0.2元。**"
   ]
  },
  {
   "cell_type": "markdown",
   "id": "bdd170ad",
   "metadata": {},
   "source": [
    "**Vega衡量隐含波动率变化对期权价格的影响，隐含波动率对期权价格的影响程度需要通过时间来证明，距离到期时间越远，影响效果越显著，Vega值越大。**"
   ]
  },
  {
   "cell_type": "markdown",
   "id": "f40ea67a",
   "metadata": {},
   "source": [
    "**期权权利方的Vega总为正值，义务方的Vega则总为负值。**"
   ]
  },
  {
   "cell_type": "markdown",
   "id": "147f6f81e0d44d70",
   "metadata": {
    "collapsed": false
   },
   "source": [
    "## Theta\n",
    "### 定义\n",
    "**衡量到期时间变化对期权价格的影响，如单位变动1单位，期权Thera值为-0.1，则期权价格变动-0.18元。**"
   ]
  },
  {
   "cell_type": "markdown",
   "id": "45a7f93c",
   "metadata": {},
   "source": [
    "**Theta衡量了到期时间变化对期权价格的影响，通常而言Theta为负值。在实务交易中，期权卖出方若对市场预判准确，期权卖出后就可以轻轻松松地通过时间流逝赚取收益。**"
   ]
  },
  {
   "cell_type": "markdown",
   "id": "12a81db0",
   "metadata": {},
   "source": [
    "## Rho\n",
    "### 定义\n",
    "**衡量利率变化对期权价格的影响，如利率变动1%，认购期权Rho值为0.3，则期权价格变动为0.3元。**"
   ]
  },
  {
   "cell_type": "markdown",
   "id": "13834243",
   "metadata": {},
   "source": [
    "**Rho用于衡量利率变化对期权价格的影响，通常而言，在期权合约有效期内，利率不会发生较大变化，一旦出现明显的变动，则会对期权价格产生重大的影响。**"
   ]
  },
  {
   "cell_type": "markdown",
   "id": "fa0b4435",
   "metadata": {},
   "source": [
    "# 股票替代\n",
    "## 期权平价公式"
   ]
  },
  {
   "cell_type": "markdown",
   "id": "203bbc7b",
   "metadata": {},
   "source": [
    "公式：-认购期权 + 认沽期权 + 股票 = 0"
   ]
  },
  {
   "cell_type": "markdown",
   "id": "f6c3c3fc",
   "metadata": {},
   "source": [
    "- 合成股票多头    = 买入认购期权 + 卖出认沽期权\n",
    "- 合成股票空头    = 卖出认购期权 + 买入认沽期权\n",
    "- 合成认购期权多头 = 买入股票    + 买入认沽期权\n",
    "- 合成认购期权空头 = 卖空股票    + 卖出认沽期权\n",
    "- 合成认沽期权多头 = 买入认购期权 + 卖空股票\n",
    "- 合成认沽期权空头 = 卖出认购期权 + 买入股票"
   ]
  },
  {
   "cell_type": "markdown",
   "id": "93c09513",
   "metadata": {},
   "source": [
    "### 合成股票多头\n",
    "**合成股票多头就是通过买入认购期权和卖出认沽期权的方式复制股票多头的策略。**"
   ]
  },
  {
   "cell_type": "markdown",
   "id": "b625d104",
   "metadata": {},
   "source": [
    "**合成股票多头建议使用平值附近的期权，平值符坚的期权流动性比较好，交易活跃，买卖价差会比使用深度实值或深度虚值的期权时的价差更小。在预计持有期权的期间应尽量保证价格是上涨的趋势。合约到期日应覆盖预期交易时段，策略使用的认购期权和认沽期权应具有相同的到期日。**"
   ]
  },
  {
   "cell_type": "markdown",
   "id": "0eee9136",
   "metadata": {},
   "source": [
    "#### 合成股票多头到期盈亏"
   ]
  },
  {
   "cell_type": "code",
   "execution_count": 3,
   "id": "b674afe8919d388e",
   "metadata": {
    "ExecuteTime": {
     "end_time": "2023-08-29T10:42:27.179862Z",
     "start_time": "2023-08-29T10:42:27.178171Z"
    },
    "collapsed": false
   },
   "outputs": [
    {
     "data": {
      "text/html": [
       "<div>\n",
       "<style scoped>\n",
       "    .dataframe tbody tr th:only-of-type {\n",
       "        vertical-align: middle;\n",
       "    }\n",
       "\n",
       "    .dataframe tbody tr th {\n",
       "        vertical-align: top;\n",
       "    }\n",
       "\n",
       "    .dataframe thead th {\n",
       "        text-align: right;\n",
       "    }\n",
       "</style>\n",
       "<table border=\"1\" class=\"dataframe\">\n",
       "  <thead>\n",
       "    <tr style=\"text-align: right;\">\n",
       "      <th></th>\n",
       "      <th>50ETF到期收盘价</th>\n",
       "      <th>认购期权收益</th>\n",
       "      <th>认沽期权收益</th>\n",
       "      <th>期权总收益</th>\n",
       "      <th>只买标的收益</th>\n",
       "    </tr>\n",
       "  </thead>\n",
       "  <tbody>\n",
       "    <tr>\n",
       "      <th>0</th>\n",
       "      <td>2.240</td>\n",
       "      <td>-4030.0</td>\n",
       "      <td>2160.0</td>\n",
       "      <td>-1870.0</td>\n",
       "      <td>-2400.0</td>\n",
       "    </tr>\n",
       "    <tr>\n",
       "      <th>1</th>\n",
       "      <td>2.245</td>\n",
       "      <td>-4030.0</td>\n",
       "      <td>2660.0</td>\n",
       "      <td>-1370.0</td>\n",
       "      <td>-1900.0</td>\n",
       "    </tr>\n",
       "    <tr>\n",
       "      <th>2</th>\n",
       "      <td>2.250</td>\n",
       "      <td>-4030.0</td>\n",
       "      <td>3160.0</td>\n",
       "      <td>-870.0</td>\n",
       "      <td>-1400.0</td>\n",
       "    </tr>\n",
       "    <tr>\n",
       "      <th>3</th>\n",
       "      <td>2.255</td>\n",
       "      <td>-3530.0</td>\n",
       "      <td>3160.0</td>\n",
       "      <td>-370.0</td>\n",
       "      <td>-900.0</td>\n",
       "    </tr>\n",
       "    <tr>\n",
       "      <th>4</th>\n",
       "      <td>2.260</td>\n",
       "      <td>-3030.0</td>\n",
       "      <td>3160.0</td>\n",
       "      <td>130.0</td>\n",
       "      <td>-400.0</td>\n",
       "    </tr>\n",
       "    <tr>\n",
       "      <th>5</th>\n",
       "      <td>2.265</td>\n",
       "      <td>-2530.0</td>\n",
       "      <td>3160.0</td>\n",
       "      <td>630.0</td>\n",
       "      <td>100.0</td>\n",
       "    </tr>\n",
       "    <tr>\n",
       "      <th>6</th>\n",
       "      <td>2.270</td>\n",
       "      <td>-2030.0</td>\n",
       "      <td>3160.0</td>\n",
       "      <td>1130.0</td>\n",
       "      <td>600.0</td>\n",
       "    </tr>\n",
       "  </tbody>\n",
       "</table>\n",
       "</div>"
      ],
      "text/plain": [
       "   50ETF到期收盘价  认购期权收益  认沽期权收益   期权总收益  只买标的收益\n",
       "0       2.240 -4030.0  2160.0 -1870.0 -2400.0\n",
       "1       2.245 -4030.0  2660.0 -1370.0 -1900.0\n",
       "2       2.250 -4030.0  3160.0  -870.0 -1400.0\n",
       "3       2.255 -3530.0  3160.0  -370.0  -900.0\n",
       "4       2.260 -3030.0  3160.0   130.0  -400.0\n",
       "5       2.265 -2530.0  3160.0   630.0   100.0\n",
       "6       2.270 -2030.0  3160.0  1130.0   600.0"
      ]
     },
     "metadata": {},
     "output_type": "display_data"
    }
   ],
   "source": [
    "import pandas as pd\n",
    "import numpy as np\n",
    "from tabulate import tabulate\n",
    "from IPython.display import display\n",
    "\n",
    "# 买入认购期权收益公式\n",
    "dCProfit = 0\t# 认购期权收益\n",
    "dPProfit = 0\t# 认沽期权收益\n",
    "dStkProfit = 0\t# 标的收益\n",
    "dStkCost = 100000 * 2.264\t# 只买标的成本\n",
    "# d50ETFClosePrice = 0\t# 50ETF收盘价\n",
    "d50ETFExePrice = 2.25\t# 50ETF期权行权价\n",
    "dCPremium = -4030\t# 认购期权权利金\n",
    "dPPremium = 3160\t# 认沽期权权利金\n",
    "dOptNum = 10\t# 50ETF期权合约张数\n",
    "listResult = [] # 计算结果列表\n",
    "\n",
    "def calCombineStkC(d50ETFClosePrice):\n",
    "    if d50ETFClosePrice <= d50ETFExePrice:\n",
    "        dCProfit = dCPremium\n",
    "        dPProfit = dPPremium + dOptNum * 10000 * (d50ETFClosePrice - d50ETFExePrice)\n",
    "    else:\n",
    "        dCProfit = dCPremium + dOptNum * 10000 * (d50ETFClosePrice - d50ETFExePrice)\n",
    "        dPProfit = dPPremium\n",
    "    dStkProfit = d50ETFClosePrice * 100000 - dStkCost\n",
    "    return (d50ETFClosePrice,dCProfit,dPProfit,dCProfit+dPProfit,dStkProfit)\n",
    "\n",
    "\n",
    "all_50etf_close_price = (2.24,2.245,2.25,2.255,2.26,2.265,2.27)\n",
    "for d50ETFClosePrice in all_50etf_close_price:\n",
    "    listResult.append(calCombineStkC(d50ETFClosePrice))\n",
    "\n",
    "df = pd.DataFrame(\n",
    "    listResult,\n",
    "    columns=['50ETF到期收盘价','认购期权收益','认沽期权收益','期权总收益','只买标的收益']\n",
    ")\n",
    "# print(tabulate(df, headers = 'keys', tablefmt = 'pretty'))\n",
    "display(df)"
   ]
  },
  {
   "cell_type": "code",
   "execution_count": null,
   "id": "40593eeb",
   "metadata": {},
   "outputs": [],
   "source": []
  }
 ],
 "metadata": {
  "kernelspec": {
   "display_name": "base",
   "language": "python",
   "name": "base"
  },
  "language_info": {
   "codemirror_mode": {
    "name": "ipython",
    "version": 3
   },
   "file_extension": ".py",
   "mimetype": "text/x-python",
   "name": "python",
   "nbconvert_exporter": "python",
   "pygments_lexer": "ipython3",
   "version": "3.11.3"
  }
 },
 "nbformat": 4,
 "nbformat_minor": 5
}
