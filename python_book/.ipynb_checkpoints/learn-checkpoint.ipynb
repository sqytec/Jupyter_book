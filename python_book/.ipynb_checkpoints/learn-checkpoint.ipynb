{
 "cells": [
  {
   "cell_type": "markdown",
   "id": "8849045998bb640e",
   "metadata": {},
   "source": [
    "# 基础\n",
    "## 变量\n",
    "1. 在Python 中，等号 = 是赋值语句，可以把任意数据类型赋值给变量，同一个变量可以反复赋值，而且可以是不同类型的变量"
   ]
  },
  {
   "cell_type": "code",
   "execution_count": 6,
   "id": "effc7e9f02d5282c",
   "metadata": {
    "ExecuteTime": {
     "end_time": "2023-08-02T08:41:18.858016Z",
     "start_time": "2023-08-02T08:41:18.830819Z"
    }
   },
   "outputs": [
    {
     "name": "stdout",
     "output_type": "stream",
     "text": [
      "123\n"
     ]
    }
   ],
   "source": [
    "a = 123\n",
    "print(a)"
   ]
  },
  {
   "cell_type": "code",
   "execution_count": 7,
   "id": "da01e115b0345a48",
   "metadata": {
    "ExecuteTime": {
     "end_time": "2023-08-02T08:41:18.858355Z",
     "start_time": "2023-08-02T08:41:18.837196Z"
    }
   },
   "outputs": [
    {
     "name": "stdout",
     "output_type": "stream",
     "text": [
      "abc\n"
     ]
    }
   ],
   "source": [
    "a = 'abc'\n",
    "print(a)"
   ]
  },
  {
   "cell_type": "markdown",
   "id": "5c3849e75e8f15a8",
   "metadata": {},
   "source": [
    "2.多个变量赋值"
   ]
  },
  {
   "cell_type": "code",
   "execution_count": 8,
   "id": "e8f4413caa2163c5",
   "metadata": {
    "ExecuteTime": {
     "end_time": "2023-08-02T08:41:18.858532Z",
     "start_time": "2023-08-02T08:41:18.840374Z"
    }
   },
   "outputs": [
    {
     "name": "stdout",
     "output_type": "stream",
     "text": [
      "a = 1, b = 1, c = 1\n"
     ]
    }
   ],
   "source": [
    "a = b = c = 1\n",
    "print('a = ' + str(a) + ', b = ' + str(b) + ', c = ' + str(c))"
   ]
  },
  {
   "cell_type": "code",
   "execution_count": 9,
   "id": "487fd4f85420841a",
   "metadata": {
    "ExecuteTime": {
     "end_time": "2023-08-02T08:41:18.879890Z",
     "start_time": "2023-08-02T08:41:18.844893Z"
    }
   },
   "outputs": [
    {
     "name": "stdout",
     "output_type": "stream",
     "text": [
      "a = 1, b = 2, c = sean\n"
     ]
    }
   ],
   "source": [
    "a, b, c = 1, 2, \"sean\"\n",
    "print('a = ' + str(a) + ', b = ' + str(b) + ', c = ' + str(c))"
   ]
  },
  {
   "cell_type": "markdown",
   "id": "68508d1ab454c15f",
   "metadata": {},
   "source": [
    "## 数据类型\n",
    "### 不可变类型\n",
    "Number（数字）、String（字符串）、Tuple（元组）\n",
    "### 可变类型\n",
    "List（列表）、Dictionary（字典）、Set（集合）\n"
   ]
  },
  {
   "cell_type": "markdown",
   "id": "8953058cd3177901",
   "metadata": {
    "jupyter": {
     "outputs_hidden": false
    }
   },
   "source": [
    "### Number\n",
    "#### 整型(int)\n",
    "python3中int没有长度限制，可以当成long来使用；python2中int有长度限制，且有long类型。\n",
    "#### 浮点型\n",
    "#### 复数"
   ]
  },
  {
   "cell_type": "code",
   "execution_count": 1,
   "id": "826df6b305a2a7e1",
   "metadata": {
    "ExecuteTime": {
     "end_time": "2023-08-02T08:41:18.880526Z",
     "start_time": "2023-08-02T08:41:18.851865Z"
    },
    "collapsed": false,
    "jupyter": {
     "outputs_hidden": false
    }
   },
   "outputs": [
    {
     "name": "stdout",
     "output_type": "stream",
     "text": [
      "100\n",
      "1000.0\n",
      "test\n"
     ]
    }
   ],
   "source": [
    "counter = 100 # 整型\n",
    "miles = 1000.0 # 浮点型\n",
    "name = \"test\" # 字符串\n",
    "print(counter)\n",
    "print(miles)\n",
    "print(name)"
   ]
  },
  {
   "cell_type": "markdown",
   "id": "27faec73621b4d3b",
   "metadata": {
    "jupyter": {
     "outputs_hidden": false
    }
   },
   "source": []
  }
 ],
 "metadata": {
  "kernelspec": {
   "display_name": "Python 3 (ipykernel)",
   "language": "python",
   "name": "python3"
  },
  "language_info": {
   "codemirror_mode": {
    "name": "ipython",
    "version": 3
   },
   "file_extension": ".py",
   "mimetype": "text/x-python",
   "name": "python",
   "nbconvert_exporter": "python",
   "pygments_lexer": "ipython3",
   "version": "3.11.3"
  }
 },
 "nbformat": 4,
 "nbformat_minor": 5
}
