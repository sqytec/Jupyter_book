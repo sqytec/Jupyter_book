{
 "cells": [
  {
   "cell_type": "markdown",
   "id": "8849045998bb640e",
   "metadata": {},
   "source": [
    "# 基础\n",
    "## 变量\n",
    "1. 在Python 中，等号 = 是赋值语句，可以把任意数据类型赋值给变量，同一个变量可以反复赋值，而且可以是不同类型的变量"
   ]
  },
  {
   "cell_type": "code",
   "execution_count": 175,
   "id": "effc7e9f02d5282c",
   "metadata": {
    "ExecuteTime": {
     "end_time": "2023-08-15T06:51:28.603208Z",
     "start_time": "2023-08-15T06:51:28.371489Z"
    }
   },
   "outputs": [
    {
     "name": "stdout",
     "output_type": "stream",
     "text": [
      "123\n"
     ]
    }
   ],
   "source": [
    "a = 123\n",
    "print(a)"
   ]
  },
  {
   "cell_type": "code",
   "execution_count": 176,
   "id": "da01e115b0345a48",
   "metadata": {
    "ExecuteTime": {
     "end_time": "2023-08-15T06:51:28.635805Z",
     "start_time": "2023-08-15T06:51:28.375656Z"
    }
   },
   "outputs": [
    {
     "name": "stdout",
     "output_type": "stream",
     "text": [
      "abc\n"
     ]
    }
   ],
   "source": [
    "a = 'abc'\n",
    "print(a)"
   ]
  },
  {
   "cell_type": "markdown",
   "id": "5c3849e75e8f15a8",
   "metadata": {},
   "source": [
    "2.多个变量赋值"
   ]
  },
  {
   "cell_type": "code",
   "execution_count": 177,
   "id": "e8f4413caa2163c5",
   "metadata": {
    "ExecuteTime": {
     "end_time": "2023-08-15T06:51:28.636063Z",
     "start_time": "2023-08-15T06:51:28.381893Z"
    }
   },
   "outputs": [
    {
     "name": "stdout",
     "output_type": "stream",
     "text": [
      "a = 1, b = 1, c = 1\n"
     ]
    }
   ],
   "source": [
    "a = b = c = 1\n",
    "print('a = ' + str(a) + ', b = ' + str(b) + ', c = ' + str(c))"
   ]
  },
  {
   "cell_type": "code",
   "execution_count": 178,
   "id": "487fd4f85420841a",
   "metadata": {
    "ExecuteTime": {
     "end_time": "2023-08-15T06:51:28.636182Z",
     "start_time": "2023-08-15T06:51:28.384514Z"
    }
   },
   "outputs": [
    {
     "name": "stdout",
     "output_type": "stream",
     "text": [
      "a = 1, b = 2, c = sean\n"
     ]
    }
   ],
   "source": [
    "a, b, c = 1, 2, \"sean\"\n",
    "print('a = ' + str(a) + ', b = ' + str(b) + ', c = ' + str(c))"
   ]
  },
  {
   "cell_type": "markdown",
   "id": "68508d1ab454c15f",
   "metadata": {},
   "source": [
    "## 数据类型\n",
    "### 不可变类型\n",
    "Number（数字）、String（字符串）、Tuple（元组）\n",
    "### 可变类型\n",
    "List（列表）、Dictionary（字典）、Set（集合）\n"
   ]
  },
  {
   "cell_type": "markdown",
   "id": "8953058cd3177901",
   "metadata": {},
   "source": [
    "### Number\n",
    "#### 整型(int)\n",
    "python3中int没有长度限制，可以当成long来使用；python2中int有长度限制，且有long类型。\n",
    "#### 浮点型\n",
    "#### 复数"
   ]
  },
  {
   "cell_type": "code",
   "execution_count": 179,
   "id": "826df6b305a2a7e1",
   "metadata": {
    "ExecuteTime": {
     "end_time": "2023-08-15T06:51:28.834029Z",
     "start_time": "2023-08-15T06:51:28.395493Z"
    },
    "collapsed": false,
    "jupyter": {
     "outputs_hidden": false
    }
   },
   "outputs": [
    {
     "name": "stdout",
     "output_type": "stream",
     "text": [
      "100\n",
      "1000.0\n",
      "test\n"
     ]
    }
   ],
   "source": [
    "counter = 100  # 整型\n",
    "miles = 1000.0  # 浮点型\n",
    "name = \"test\"  # 字符串\n",
    "print(counter)\n",
    "print(miles)\n",
    "print(name)"
   ]
  },
  {
   "cell_type": "markdown",
   "id": "27faec73621b4d3b",
   "metadata": {},
   "source": [
    "#### 数字类型转换\n",
    "- int(x):将x转换为一个整数\n",
    "- float(x):将x转换为一个浮点数\n",
    "- complex(x):将x转换为一个复数，实数部分为x，虚数部分为0；\n",
    "- complex(x,y):将x、y转换为一个复数，实数部分为x，虚数部分为y。"
   ]
  },
  {
   "cell_type": "markdown",
   "id": "8a9ef7ef7fc10ca3",
   "metadata": {
    "collapsed": false,
    "jupyter": {
     "outputs_hidden": false
    }
   },
   "source": [
    "#### 数值运算"
   ]
  },
  {
   "cell_type": "code",
   "execution_count": 180,
   "id": "45a28fa7183a60a8",
   "metadata": {
    "ExecuteTime": {
     "end_time": "2023-08-15T06:51:28.851052Z",
     "start_time": "2023-08-15T06:51:28.408125Z"
    },
    "collapsed": false,
    "jupyter": {
     "outputs_hidden": false
    }
   },
   "outputs": [
    {
     "name": "stdout",
     "output_type": "stream",
     "text": [
      "9\n",
      "2.3\n",
      "21\n",
      "0.5\n",
      "0\n",
      "2\n",
      "32\n"
     ]
    }
   ],
   "source": [
    "print(5 + 4)\n",
    "print(4.3 - 2)\n",
    "print(3 * 7)\n",
    "print(2 / 4)  # 除法，得到一个浮点数    输出0.5\n",
    "print(2 // 4)  # 除法，得到一个整数      输出0\n",
    "print(17 % 3)  #求余\n",
    "print(2 ** 5)  # 乘方"
   ]
  },
  {
   "cell_type": "markdown",
   "id": "6d57287453a50014",
   "metadata": {
    "collapsed": false,
    "jupyter": {
     "outputs_hidden": false
    }
   },
   "source": [
    "### 字符串"
   ]
  },
  {
   "cell_type": "code",
   "execution_count": 181,
   "id": "b86378767e03d57d",
   "metadata": {
    "ExecuteTime": {
     "end_time": "2023-08-15T06:51:28.856664Z",
     "start_time": "2023-08-15T06:51:28.414444Z"
    },
    "collapsed": false,
    "jupyter": {
     "outputs_hidden": false
    }
   },
   "outputs": [],
   "source": [
    "strSource = '学习Python'"
   ]
  },
  {
   "cell_type": "markdown",
   "id": "744382c8afbdeca3",
   "metadata": {
    "collapsed": false,
    "jupyter": {
     "outputs_hidden": false
    }
   },
   "source": [
    "#### 切片"
   ]
  },
  {
   "cell_type": "code",
   "execution_count": 182,
   "id": "f4913185dee74233",
   "metadata": {
    "ExecuteTime": {
     "end_time": "2023-08-15T06:51:28.890669Z",
     "start_time": "2023-08-15T06:51:28.420353Z"
    },
    "collapsed": false,
    "jupyter": {
     "outputs_hidden": false
    }
   },
   "outputs": [
    {
     "data": {
      "text/plain": [
       "'学'"
      ]
     },
     "execution_count": 182,
     "metadata": {},
     "output_type": "execute_result"
    }
   ],
   "source": [
    "strSource[0]"
   ]
  },
  {
   "cell_type": "code",
   "execution_count": 183,
   "id": "6b340a2d7b392f61",
   "metadata": {
    "ExecuteTime": {
     "end_time": "2023-08-15T06:51:28.900916Z",
     "start_time": "2023-08-15T06:51:28.423407Z"
    },
    "collapsed": false,
    "jupyter": {
     "outputs_hidden": false
    }
   },
   "outputs": [
    {
     "data": {
      "text/plain": [
       "'n'"
      ]
     },
     "execution_count": 183,
     "metadata": {},
     "output_type": "execute_result"
    }
   ],
   "source": [
    "strSource[-1]"
   ]
  },
  {
   "cell_type": "code",
   "execution_count": 184,
   "id": "491c221a11bc480f",
   "metadata": {
    "ExecuteTime": {
     "end_time": "2023-08-15T06:51:28.901114Z",
     "start_time": "2023-08-15T06:51:28.426088Z"
    },
    "collapsed": false,
    "jupyter": {
     "outputs_hidden": false
    }
   },
   "outputs": [
    {
     "data": {
      "text/plain": [
       "'ython'"
      ]
     },
     "execution_count": 184,
     "metadata": {},
     "output_type": "execute_result"
    }
   ],
   "source": [
    "strSource[3:]"
   ]
  },
  {
   "cell_type": "code",
   "execution_count": 185,
   "id": "883b97dd4df905ee",
   "metadata": {
    "ExecuteTime": {
     "end_time": "2023-08-15T06:51:28.901234Z",
     "start_time": "2023-08-15T06:51:28.428503Z"
    },
    "collapsed": false,
    "jupyter": {
     "outputs_hidden": false
    }
   },
   "outputs": [
    {
     "data": {
      "text/plain": [
       "'nohtyP习学'"
      ]
     },
     "execution_count": 185,
     "metadata": {},
     "output_type": "execute_result"
    }
   ],
   "source": [
    "strSource[::-1]"
   ]
  },
  {
   "cell_type": "markdown",
   "id": "47276afbd767f4ee",
   "metadata": {
    "collapsed": false,
    "jupyter": {
     "outputs_hidden": false
    }
   },
   "source": [
    "#### 替换"
   ]
  },
  {
   "cell_type": "code",
   "execution_count": 186,
   "id": "924975681d62c77",
   "metadata": {
    "ExecuteTime": {
     "end_time": "2023-08-15T06:51:28.936413Z",
     "start_time": "2023-08-15T06:51:28.431873Z"
    },
    "collapsed": false,
    "jupyter": {
     "outputs_hidden": false
    }
   },
   "outputs": [
    {
     "data": {
      "text/plain": [
       "'学习scala'"
      ]
     },
     "execution_count": 186,
     "metadata": {},
     "output_type": "execute_result"
    }
   ],
   "source": [
    "strSource.replace('Python', 'scala')"
   ]
  },
  {
   "cell_type": "markdown",
   "id": "a94c6ff467e4a37f",
   "metadata": {
    "collapsed": false,
    "jupyter": {
     "outputs_hidden": false
    }
   },
   "source": [
    "#### 查找"
   ]
  },
  {
   "cell_type": "code",
   "execution_count": 187,
   "id": "da7d85c8ae311d11",
   "metadata": {
    "ExecuteTime": {
     "end_time": "2023-08-15T06:51:28.966399Z",
     "start_time": "2023-08-15T06:51:28.434320Z"
    },
    "collapsed": false,
    "jupyter": {
     "outputs_hidden": false
    }
   },
   "outputs": [
    {
     "data": {
      "text/plain": [
       "2"
      ]
     },
     "execution_count": 187,
     "metadata": {},
     "output_type": "execute_result"
    }
   ],
   "source": [
    "strSource.find('P')  # 返回子串第一次出现的索引下标"
   ]
  },
  {
   "cell_type": "code",
   "execution_count": 188,
   "id": "7d0ccd04cdf4cfe8",
   "metadata": {
    "ExecuteTime": {
     "end_time": "2023-08-15T06:51:28.966709Z",
     "start_time": "2023-08-15T06:51:28.437177Z"
    },
    "collapsed": false,
    "jupyter": {
     "outputs_hidden": false
    }
   },
   "outputs": [
    {
     "data": {
      "text/plain": [
       "5"
      ]
     },
     "execution_count": 188,
     "metadata": {},
     "output_type": "execute_result"
    }
   ],
   "source": [
    "strSource.find('h', 2)  # 设置从索引为2起始查找(返回的是子串实际索引位置，并不会因为从索引2开始查找使得起索引变更)"
   ]
  },
  {
   "cell_type": "code",
   "execution_count": 189,
   "id": "6cae943c9c5a3aeb",
   "metadata": {
    "ExecuteTime": {
     "end_time": "2023-08-15T06:51:28.977114Z",
     "start_time": "2023-08-15T06:51:28.439705Z"
    },
    "collapsed": false,
    "jupyter": {
     "outputs_hidden": false
    }
   },
   "outputs": [
    {
     "data": {
      "text/plain": [
       "-1"
      ]
     },
     "execution_count": 189,
     "metadata": {},
     "output_type": "execute_result"
    }
   ],
   "source": [
    "strSource.find('srasd')  # 查找不到子串，返回-1"
   ]
  },
  {
   "cell_type": "code",
   "execution_count": 190,
   "id": "376c1ca02a902f64",
   "metadata": {
    "ExecuteTime": {
     "end_time": "2023-08-15T06:51:28.991428Z",
     "start_time": "2023-08-15T06:51:28.442529Z"
    },
    "collapsed": false,
    "jupyter": {
     "outputs_hidden": false
    }
   },
   "outputs": [
    {
     "data": {
      "text/plain": [
       "5"
      ]
     },
     "execution_count": 190,
     "metadata": {},
     "output_type": "execute_result"
    }
   ],
   "source": [
    "strSource.index('h')"
   ]
  },
  {
   "cell_type": "code",
   "execution_count": 191,
   "id": "bb3741a6253d6635",
   "metadata": {
    "ExecuteTime": {
     "end_time": "2023-08-15T06:51:28.991566Z",
     "start_time": "2023-08-15T06:51:28.445141Z"
    },
    "collapsed": false,
    "jupyter": {
     "outputs_hidden": false
    }
   },
   "outputs": [],
   "source": [
    "# strSource.index('sasddd')  # index查找不到子串时会抛异常，而find只是返回-1，不会抛异常"
   ]
  },
  {
   "cell_type": "markdown",
   "id": "7eeb60e58ead7bdb",
   "metadata": {
    "collapsed": false,
    "jupyter": {
     "outputs_hidden": false
    }
   },
   "source": [
    "#### 转大小写   upper()、lower()、swapcase()、capitalize()、istitle()、isupper()、islower()"
   ]
  },
  {
   "cell_type": "code",
   "execution_count": 192,
   "id": "968b2c62e615ec55",
   "metadata": {
    "ExecuteTime": {
     "end_time": "2023-08-15T06:51:29.021737Z",
     "start_time": "2023-08-15T06:51:28.447223Z"
    },
    "collapsed": false,
    "jupyter": {
     "outputs_hidden": false
    }
   },
   "outputs": [
    {
     "data": {
      "text/plain": [
       "'学习PYTHON'"
      ]
     },
     "execution_count": 192,
     "metadata": {},
     "output_type": "execute_result"
    }
   ],
   "source": [
    "strSource.upper()"
   ]
  },
  {
   "cell_type": "code",
   "execution_count": 193,
   "id": "35add0bccdeb0522",
   "metadata": {
    "ExecuteTime": {
     "end_time": "2023-08-15T06:51:29.021940Z",
     "start_time": "2023-08-15T06:51:28.449473Z"
    },
    "collapsed": false,
    "jupyter": {
     "outputs_hidden": false
    }
   },
   "outputs": [
    {
     "data": {
      "text/plain": [
       "'学习pYTHON'"
      ]
     },
     "execution_count": 193,
     "metadata": {},
     "output_type": "execute_result"
    }
   ],
   "source": [
    "strSource.swapcase()  # 大小写互换"
   ]
  },
  {
   "cell_type": "code",
   "execution_count": 194,
   "id": "b7be0a0b80b005b2",
   "metadata": {
    "ExecuteTime": {
     "end_time": "2023-08-15T06:51:29.041298Z",
     "start_time": "2023-08-15T06:51:28.451707Z"
    },
    "collapsed": false,
    "jupyter": {
     "outputs_hidden": false
    }
   },
   "outputs": [
    {
     "data": {
      "text/plain": [
       "True"
      ]
     },
     "execution_count": 194,
     "metadata": {},
     "output_type": "execute_result"
    }
   ],
   "source": [
    "strSource.istitle()"
   ]
  },
  {
   "cell_type": "code",
   "execution_count": 195,
   "id": "b6a63004b67cc9f",
   "metadata": {
    "ExecuteTime": {
     "end_time": "2023-08-15T06:51:29.041580Z",
     "start_time": "2023-08-15T06:51:28.455341Z"
    },
    "collapsed": false,
    "jupyter": {
     "outputs_hidden": false
    }
   },
   "outputs": [
    {
     "data": {
      "text/plain": [
       "False"
      ]
     },
     "execution_count": 195,
     "metadata": {},
     "output_type": "execute_result"
    }
   ],
   "source": [
    "strSource.islower()"
   ]
  },
  {
   "cell_type": "markdown",
   "id": "1d0a8ab3d34acaf1",
   "metadata": {
    "collapsed": false,
    "jupyter": {
     "outputs_hidden": false
    }
   },
   "source": [
    "#### 去空格，strip()、lstrip()、rstrip()"
   ]
  },
  {
   "cell_type": "code",
   "execution_count": 196,
   "id": "d8aa08ee89bc180f",
   "metadata": {
    "ExecuteTime": {
     "end_time": "2023-08-15T06:51:29.047492Z",
     "start_time": "2023-08-15T06:51:28.457813Z"
    },
    "collapsed": false,
    "jupyter": {
     "outputs_hidden": false
    }
   },
   "outputs": [
    {
     "data": {
      "text/plain": [
       "'学习Python'"
      ]
     },
     "execution_count": 196,
     "metadata": {},
     "output_type": "execute_result"
    }
   ],
   "source": [
    "strSource.strip()"
   ]
  },
  {
   "cell_type": "code",
   "execution_count": 197,
   "id": "aa9f8ce70b79a5bd",
   "metadata": {
    "ExecuteTime": {
     "end_time": "2023-08-15T06:51:29.047661Z",
     "start_time": "2023-08-15T06:51:28.460905Z"
    },
    "collapsed": false,
    "jupyter": {
     "outputs_hidden": false
    }
   },
   "outputs": [
    {
     "data": {
      "text/plain": [
       "'-'"
      ]
     },
     "execution_count": 197,
     "metadata": {},
     "output_type": "execute_result"
    }
   ],
   "source": [
    "\" -\".lstrip()"
   ]
  },
  {
   "cell_type": "code",
   "execution_count": 198,
   "id": "db4e4f8272e8bb80",
   "metadata": {
    "ExecuteTime": {
     "end_time": "2023-08-15T06:51:29.047775Z",
     "start_time": "2023-08-15T06:51:28.463170Z"
    },
    "collapsed": false,
    "jupyter": {
     "outputs_hidden": false
    }
   },
   "outputs": [
    {
     "data": {
      "text/plain": [
       "'-'"
      ]
     },
     "execution_count": 198,
     "metadata": {},
     "output_type": "execute_result"
    }
   ],
   "source": [
    "\"-  \".rstrip()"
   ]
  },
  {
   "cell_type": "markdown",
   "id": "d576b1c56f6962e7",
   "metadata": {
    "collapsed": false,
    "jupyter": {
     "outputs_hidden": false
    }
   },
   "source": [
    "#### 格式化    建议使用format进行格式化"
   ]
  },
  {
   "cell_type": "code",
   "execution_count": 199,
   "id": "adc22c0b4ba10630",
   "metadata": {
    "ExecuteTime": {
     "end_time": "2023-08-15T06:51:29.047882Z",
     "start_time": "2023-08-15T06:51:28.465215Z"
    },
    "collapsed": false,
    "jupyter": {
     "outputs_hidden": false
    }
   },
   "outputs": [
    {
     "data": {
      "text/plain": [
       "'Test 21 '"
      ]
     },
     "execution_count": 199,
     "metadata": {},
     "output_type": "execute_result"
    }
   ],
   "source": [
    "s1 = \"%s %s \" % (\"Test\", 21)\n",
    "s1"
   ]
  },
  {
   "cell_type": "code",
   "execution_count": 200,
   "id": "c3b42b71c72c9e09",
   "metadata": {
    "ExecuteTime": {
     "end_time": "2023-08-15T06:51:29.086323Z",
     "start_time": "2023-08-15T06:51:28.467558Z"
    },
    "collapsed": false,
    "jupyter": {
     "outputs_hidden": false
    }
   },
   "outputs": [
    {
     "data": {
      "text/plain": [
       "'21,test'"
      ]
     },
     "execution_count": 200,
     "metadata": {},
     "output_type": "execute_result"
    }
   ],
   "source": [
    "s2 = \"{},{}\".format(21, \"test\")\n",
    "s2"
   ]
  },
  {
   "cell_type": "code",
   "execution_count": 201,
   "id": "dfba3da77d7e919c",
   "metadata": {
    "ExecuteTime": {
     "end_time": "2023-08-15T06:51:29.086582Z",
     "start_time": "2023-08-15T06:51:28.470489Z"
    },
    "collapsed": false,
    "jupyter": {
     "outputs_hidden": false
    }
   },
   "outputs": [
    {
     "data": {
      "text/plain": [
       "'21,test,21'"
      ]
     },
     "execution_count": 201,
     "metadata": {},
     "output_type": "execute_result"
    }
   ],
   "source": [
    "s3 = \"{0},{1},{0}\".format(21, \"test\")\n",
    "s3"
   ]
  },
  {
   "cell_type": "code",
   "execution_count": 202,
   "id": "6aa8d5701f8bd958",
   "metadata": {
    "ExecuteTime": {
     "end_time": "2023-08-15T06:51:29.106140Z",
     "start_time": "2023-08-15T06:51:28.472231Z"
    },
    "collapsed": false,
    "jupyter": {
     "outputs_hidden": false
    }
   },
   "outputs": [
    {
     "data": {
      "text/plain": [
       "'test,18'"
      ]
     },
     "execution_count": 202,
     "metadata": {},
     "output_type": "execute_result"
    }
   ],
   "source": [
    "s4 = \"{name},{age}\".format(name=\"test\", age=18)\n",
    "s4"
   ]
  },
  {
   "cell_type": "markdown",
   "id": "45a18d642ac97537",
   "metadata": {
    "collapsed": false,
    "jupyter": {
     "outputs_hidden": false
    }
   },
   "source": [
    "#### 连接与分割，使用 + 连接字符，每次操作都会重新计算、开辟、释放内存，效率低，推荐使用join"
   ]
  },
  {
   "cell_type": "code",
   "execution_count": 203,
   "id": "11bc3f68aa264a3a",
   "metadata": {
    "ExecuteTime": {
     "end_time": "2023-08-15T06:51:29.110262Z",
     "start_time": "2023-08-15T06:51:28.474878Z"
    },
    "collapsed": false,
    "jupyter": {
     "outputs_hidden": false
    }
   },
   "outputs": [
    {
     "data": {
      "text/plain": [
       "'2023-08-03'"
      ]
     },
     "execution_count": 203,
     "metadata": {},
     "output_type": "execute_result"
    }
   ],
   "source": [
    "l = ['2023', '08', '03']\n",
    "s5 = '-'.join(l)\n",
    "s5"
   ]
  },
  {
   "cell_type": "code",
   "execution_count": 204,
   "id": "cc2be8aeeb08dcff",
   "metadata": {
    "ExecuteTime": {
     "end_time": "2023-08-15T06:51:29.110454Z",
     "start_time": "2023-08-15T06:51:28.476892Z"
    },
    "collapsed": false,
    "jupyter": {
     "outputs_hidden": false
    }
   },
   "outputs": [
    {
     "data": {
      "text/plain": [
       "['2023', '08', '03']"
      ]
     },
     "execution_count": 204,
     "metadata": {},
     "output_type": "execute_result"
    }
   ],
   "source": [
    "s5.split('-')"
   ]
  },
  {
   "cell_type": "markdown",
   "id": "ef0e33aca801e4f7",
   "metadata": {
    "collapsed": false,
    "jupyter": {
     "outputs_hidden": false
    }
   },
   "source": [
    "#### 字符编码"
   ]
  },
  {
   "cell_type": "code",
   "execution_count": 205,
   "id": "5880afc9482b7be2",
   "metadata": {
    "ExecuteTime": {
     "end_time": "2023-08-15T06:51:29.126466Z",
     "start_time": "2023-08-15T06:51:28.481214Z"
    },
    "collapsed": false,
    "jupyter": {
     "outputs_hidden": false
    }
   },
   "outputs": [
    {
     "name": "stdout",
     "output_type": "stream",
     "text": [
      "b'\\xe5\\xad\\xa6\\xe4\\xb9\\xa0Python'\n",
      "b'\\xd1\\xa7\\xcf\\xb0Python'\n",
      "学习Python\n",
      "学习Python\n"
     ]
    }
   ],
   "source": [
    "print(strSource.encode())\n",
    "print(strSource.encode('gbk'))\n",
    "print(strSource.encode().decode(\"utf8\"))\n",
    "print(strSource.encode(\"gbk\").decode(\"gbk\"))"
   ]
  },
  {
   "cell_type": "markdown",
   "id": "79f3b0e99bba3969",
   "metadata": {
    "collapsed": false,
    "jupyter": {
     "outputs_hidden": false
    }
   },
   "source": [
    "### List"
   ]
  },
  {
   "cell_type": "markdown",
   "id": "c1abd7e77b48e80e",
   "metadata": {
    "collapsed": false,
    "jupyter": {
     "outputs_hidden": false
    }
   },
   "source": [
    "列表是写在方括号 [] 之间、用逗号分隔开的元素列表，列表可以完成大多数集合类的数据结构实现。列表中元素的类型可以不相同，它支持数字，字符串甚至可以包含列表（所谓嵌套），列表中的元素是可以改变。"
   ]
  },
  {
   "cell_type": "code",
   "execution_count": 206,
   "id": "97902718ba456af9",
   "metadata": {
    "ExecuteTime": {
     "end_time": "2023-08-15T06:51:29.169636Z",
     "start_time": "2023-08-15T06:51:28.483405Z"
    },
    "collapsed": false,
    "jupyter": {
     "outputs_hidden": false
    }
   },
   "outputs": [
    {
     "name": "stdout",
     "output_type": "stream",
     "text": [
      "['Monday', 'Tuesday', 'Wednesday', 'Thursday', 'Friday']\n"
     ]
    }
   ],
   "source": [
    "Weekday = ['Monday', 'Tuesday', 'Wednesday', 'Thursday', 'Friday']\n",
    "print(Weekday)"
   ]
  },
  {
   "cell_type": "code",
   "execution_count": 207,
   "id": "e65e7b0533220c91",
   "metadata": {
    "ExecuteTime": {
     "end_time": "2023-08-15T06:51:29.169900Z",
     "start_time": "2023-08-15T06:51:28.486378Z"
    },
    "collapsed": false,
    "jupyter": {
     "outputs_hidden": false
    }
   },
   "outputs": [
    {
     "name": "stdout",
     "output_type": "stream",
     "text": [
      "Monday\n"
     ]
    }
   ],
   "source": [
    "print(Weekday[0])"
   ]
  },
  {
   "cell_type": "code",
   "execution_count": 208,
   "id": "3151c325abca464d",
   "metadata": {
    "ExecuteTime": {
     "end_time": "2023-08-15T06:51:29.170008Z",
     "start_time": "2023-08-15T06:51:28.488193Z"
    },
    "collapsed": false,
    "jupyter": {
     "outputs_hidden": false
    }
   },
   "outputs": [
    {
     "name": "stdout",
     "output_type": "stream",
     "text": [
      "2\n"
     ]
    }
   ],
   "source": [
    "# list搜索\n",
    "print(Weekday.index(\"Wednesday\"))"
   ]
  },
  {
   "cell_type": "code",
   "execution_count": 209,
   "id": "e4d5477b6a83e563",
   "metadata": {
    "ExecuteTime": {
     "end_time": "2023-08-15T06:51:29.175319Z",
     "start_time": "2023-08-15T06:51:28.489861Z"
    },
    "collapsed": false,
    "jupyter": {
     "outputs_hidden": false
    }
   },
   "outputs": [
    {
     "name": "stdout",
     "output_type": "stream",
     "text": [
      "['Monday', 'Tuesday', 'Wednesday', 'Thursday', 'Friday', 'new']\n"
     ]
    }
   ],
   "source": [
    "# list 增加元素\n",
    "Weekday.append('new')\n",
    "print(Weekday)"
   ]
  },
  {
   "cell_type": "code",
   "execution_count": 210,
   "id": "bd3a584c966976e",
   "metadata": {
    "ExecuteTime": {
     "end_time": "2023-08-15T06:51:29.175450Z",
     "start_time": "2023-08-15T06:51:28.492289Z"
    },
    "collapsed": false,
    "jupyter": {
     "outputs_hidden": false
    }
   },
   "outputs": [
    {
     "name": "stdout",
     "output_type": "stream",
     "text": [
      "['Monday', 'Tuesday', 'Wednesday', 'Friday', 'new']\n"
     ]
    }
   ],
   "source": [
    "# list 删除\n",
    "Weekday.remove('Thursday')\n",
    "print(Weekday)"
   ]
  },
  {
   "cell_type": "markdown",
   "id": "579dfe43cbc9beca",
   "metadata": {
    "collapsed": false,
    "jupyter": {
     "outputs_hidden": false
    }
   },
   "source": [
    "### Tuple\n",
    "元组（tuple）与列表类似，不同之处在于元组的元素不能修改。元组写在小括号 () 里，元素之间用逗号隔开，组中的元素类型也可以不相同。"
   ]
  },
  {
   "cell_type": "code",
   "execution_count": 211,
   "id": "751d33ab01dc11d1",
   "metadata": {
    "ExecuteTime": {
     "end_time": "2023-08-15T06:51:29.175537Z",
     "start_time": "2023-08-15T06:51:28.494181Z"
    },
    "collapsed": false,
    "jupyter": {
     "outputs_hidden": false
    }
   },
   "outputs": [],
   "source": [
    "letters = ('a', 'b', 'c', 'd', 'e', 'f', 'g')"
   ]
  },
  {
   "cell_type": "code",
   "execution_count": 212,
   "id": "61ba77ec1532494b",
   "metadata": {
    "ExecuteTime": {
     "end_time": "2023-08-15T06:51:29.199011Z",
     "start_time": "2023-08-15T06:51:28.496006Z"
    },
    "collapsed": false,
    "jupyter": {
     "outputs_hidden": false
    }
   },
   "outputs": [
    {
     "name": "stdout",
     "output_type": "stream",
     "text": [
      "a\n"
     ]
    }
   ],
   "source": [
    "print(letters[0])"
   ]
  },
  {
   "cell_type": "code",
   "execution_count": 213,
   "id": "29e411194c5b16b0",
   "metadata": {
    "ExecuteTime": {
     "end_time": "2023-08-15T06:51:29.199242Z",
     "start_time": "2023-08-15T06:51:28.498271Z"
    },
    "collapsed": false,
    "jupyter": {
     "outputs_hidden": false
    }
   },
   "outputs": [
    {
     "name": "stdout",
     "output_type": "stream",
     "text": [
      "('a', 'b', 'c')\n"
     ]
    }
   ],
   "source": [
    "print(letters[0:3])"
   ]
  },
  {
   "cell_type": "markdown",
   "id": "dc636ece32c1769c",
   "metadata": {
    "collapsed": false,
    "jupyter": {
     "outputs_hidden": false
    }
   },
   "source": [
    "### Sets\n",
    "集合（set）是一个无序不重复元素的序列，使用大括号 {} 或者 set() 函数创建集合，注意：创建一个空集合必须用 set() 而不是 {} ，因为 {} 是用来创建一个空字典。集合不能被切片也不能被索引，除了做集合运算之外，集合元素可以被添加还有删除。"
   ]
  },
  {
   "cell_type": "code",
   "execution_count": 214,
   "id": "1941846e778c809",
   "metadata": {
    "ExecuteTime": {
     "end_time": "2023-08-15T06:51:29.209826Z",
     "start_time": "2023-08-15T06:51:28.500123Z"
    },
    "collapsed": false,
    "jupyter": {
     "outputs_hidden": false
    }
   },
   "outputs": [
    {
     "name": "stdout",
     "output_type": "stream",
     "text": [
      "{1, 2, 3, 4, 5}\n"
     ]
    }
   ],
   "source": [
    "a_set = {1, 2, 3, 4}\n",
    "a_set.add(5)\n",
    "print(a_set)"
   ]
  },
  {
   "cell_type": "code",
   "execution_count": 215,
   "id": "c15f884f70878ca0",
   "metadata": {
    "ExecuteTime": {
     "end_time": "2023-08-15T06:51:29.214183Z",
     "start_time": "2023-08-15T06:51:28.504156Z"
    },
    "collapsed": false,
    "jupyter": {
     "outputs_hidden": false
    }
   },
   "outputs": [
    {
     "name": "stdout",
     "output_type": "stream",
     "text": [
      "{1, 2, 3, 4}\n"
     ]
    }
   ],
   "source": [
    "a_set.discard(5)\n",
    "print(a_set)"
   ]
  },
  {
   "cell_type": "markdown",
   "id": "72d5ff935d9513b5",
   "metadata": {
    "collapsed": false,
    "jupyter": {
     "outputs_hidden": false
    }
   },
   "source": [
    "### Dictionary\n",
    "字典是一种映射类型，它的元素是键值对，字典的关键字必须为不可变类型，且不能重复。创建空字典使用 {} "
   ]
  },
  {
   "cell_type": "code",
   "execution_count": 216,
   "id": "fe03fa23f92ad9e",
   "metadata": {
    "ExecuteTime": {
     "end_time": "2023-08-15T06:51:29.236963Z",
     "start_time": "2023-08-15T06:51:28.506095Z"
    },
    "collapsed": false,
    "jupyter": {
     "outputs_hidden": false
    }
   },
   "outputs": [],
   "source": [
    "Logo_code = {'BIDU': 'Baidu', 'SINA': 'Sina', 'YOKU': 'Youku'}"
   ]
  },
  {
   "cell_type": "code",
   "execution_count": 217,
   "id": "7d3e61766ecb45c1",
   "metadata": {
    "ExecuteTime": {
     "end_time": "2023-08-15T06:51:29.237224Z",
     "start_time": "2023-08-15T06:51:28.508972Z"
    },
    "collapsed": false,
    "jupyter": {
     "outputs_hidden": false
    }
   },
   "outputs": [
    {
     "name": "stdout",
     "output_type": "stream",
     "text": [
      "{'BIDU': 'Baidu', 'SINA': 'Sina', 'YOKU': 'Youku'}\n"
     ]
    }
   ],
   "source": [
    "print(Logo_code)"
   ]
  },
  {
   "cell_type": "code",
   "execution_count": 218,
   "id": "165841883ee8c686",
   "metadata": {
    "ExecuteTime": {
     "end_time": "2023-08-15T06:51:29.246519Z",
     "start_time": "2023-08-15T06:51:28.510847Z"
    },
    "collapsed": false,
    "jupyter": {
     "outputs_hidden": false
    }
   },
   "outputs": [
    {
     "name": "stdout",
     "output_type": "stream",
     "text": [
      "Sina\n"
     ]
    }
   ],
   "source": [
    "print(Logo_code['SINA'])"
   ]
  },
  {
   "cell_type": "code",
   "execution_count": 219,
   "id": "b78a067ee4234114",
   "metadata": {
    "ExecuteTime": {
     "end_time": "2023-08-15T06:51:29.246814Z",
     "start_time": "2023-08-15T06:51:28.513743Z"
    },
    "collapsed": false,
    "jupyter": {
     "outputs_hidden": false
    }
   },
   "outputs": [
    {
     "name": "stdout",
     "output_type": "stream",
     "text": [
      "dict_keys(['BIDU', 'SINA', 'YOKU'])\n"
     ]
    }
   ],
   "source": [
    "print(Logo_code.keys())"
   ]
  },
  {
   "cell_type": "code",
   "execution_count": 220,
   "id": "d22e617e119e24f9",
   "metadata": {
    "ExecuteTime": {
     "end_time": "2023-08-15T06:51:29.246917Z",
     "start_time": "2023-08-15T06:51:28.516331Z"
    },
    "collapsed": false,
    "jupyter": {
     "outputs_hidden": false
    }
   },
   "outputs": [
    {
     "name": "stdout",
     "output_type": "stream",
     "text": [
      "dict_values(['Baidu', 'Sina', 'Youku'])\n"
     ]
    }
   ],
   "source": [
    "print(Logo_code.values())"
   ]
  },
  {
   "cell_type": "code",
   "execution_count": 221,
   "id": "38a1543087972869",
   "metadata": {
    "ExecuteTime": {
     "end_time": "2023-08-15T06:51:29.252336Z",
     "start_time": "2023-08-15T06:51:28.518768Z"
    },
    "collapsed": false,
    "jupyter": {
     "outputs_hidden": false
    }
   },
   "outputs": [
    {
     "name": "stdout",
     "output_type": "stream",
     "text": [
      "3\n"
     ]
    }
   ],
   "source": [
    "print(len(Logo_code))"
   ]
  },
  {
   "cell_type": "markdown",
   "id": "8adb8aa44605b9ea",
   "metadata": {
    "collapsed": false,
    "jupyter": {
     "outputs_hidden": false
    }
   },
   "source": [
    "## 流程控制\n",
    "### if 语句"
   ]
  },
  {
   "cell_type": "code",
   "execution_count": 222,
   "id": "9741214704465848",
   "metadata": {
    "ExecuteTime": {
     "end_time": "2023-08-15T06:51:29.252448Z",
     "start_time": "2023-08-15T06:51:28.521402Z"
    },
    "collapsed": false,
    "jupyter": {
     "outputs_hidden": false
    }
   },
   "outputs": [
    {
     "name": "stdout",
     "output_type": "stream",
     "text": [
      "Negative changed to zero\n"
     ]
    }
   ],
   "source": [
    "x = -5\n",
    "if x < 0:\n",
    "    x = 0\n",
    "    print('Negative changed to zero')\n",
    "elif x == 0:\n",
    "    print('Zero')\n",
    "elif x == 1:\n",
    "    print('Single')\n",
    "else:\n",
    "    print('More')"
   ]
  },
  {
   "cell_type": "markdown",
   "id": "803c59212b27c791",
   "metadata": {
    "collapsed": false,
    "jupyter": {
     "outputs_hidden": false
    }
   },
   "source": [
    "### for循环"
   ]
  },
  {
   "cell_type": "code",
   "execution_count": 223,
   "id": "97f5e85111287bed",
   "metadata": {
    "ExecuteTime": {
     "end_time": "2023-08-15T06:51:29.257549Z",
     "start_time": "2023-08-15T06:51:28.524352Z"
    },
    "collapsed": false,
    "jupyter": {
     "outputs_hidden": false
    }
   },
   "outputs": [
    {
     "name": "stdout",
     "output_type": "stream",
     "text": [
      "当前字母： p\n",
      "当前字母： y\n",
      "当前字母： t\n",
      "当前字母： h\n",
      "当前字母： o\n",
      "当前字母： n\n"
     ]
    }
   ],
   "source": [
    "for letter in 'python':\n",
    "    print('当前字母：', letter)"
   ]
  },
  {
   "cell_type": "code",
   "execution_count": 224,
   "id": "b1e7bf03860bbff7",
   "metadata": {
    "ExecuteTime": {
     "end_time": "2023-08-15T06:51:29.257666Z",
     "start_time": "2023-08-15T06:51:28.527252Z"
    },
    "collapsed": false,
    "jupyter": {
     "outputs_hidden": false
    }
   },
   "outputs": [
    {
     "name": "stdout",
     "output_type": "stream",
     "text": [
      "banana\n",
      "apple\n",
      "mango\n"
     ]
    }
   ],
   "source": [
    "fruits = ['banana', 'apple', 'mango']\n",
    "for fruit in fruits:\n",
    "    print(fruit)"
   ]
  },
  {
   "cell_type": "code",
   "execution_count": 225,
   "id": "9f2085ea22fea01d",
   "metadata": {
    "ExecuteTime": {
     "end_time": "2023-08-15T06:51:29.426006Z",
     "start_time": "2023-08-15T06:51:28.589251Z"
    },
    "collapsed": false,
    "jupyter": {
     "outputs_hidden": false
    }
   },
   "outputs": [
    {
     "name": "stdout",
     "output_type": "stream",
     "text": [
      "banana\n",
      "apple\n",
      "mango\n"
     ]
    }
   ],
   "source": [
    "for index in range(len(fruits)):\n",
    "    print(fruits[index])"
   ]
  },
  {
   "cell_type": "markdown",
   "id": "c7352cc94b7c2da5",
   "metadata": {
    "collapsed": false,
    "jupyter": {
     "outputs_hidden": false
    }
   },
   "source": [
    "### while循环"
   ]
  },
  {
   "cell_type": "code",
   "execution_count": 226,
   "id": "db12f44639f2d1ef",
   "metadata": {
    "ExecuteTime": {
     "end_time": "2023-08-15T06:51:29.426192Z",
     "start_time": "2023-08-15T06:51:28.592068Z"
    },
    "collapsed": false,
    "jupyter": {
     "outputs_hidden": false
    }
   },
   "outputs": [
    {
     "name": "stdout",
     "output_type": "stream",
     "text": [
      "0\n",
      "1\n",
      "2\n",
      "3\n",
      "4\n",
      "5\n",
      "6\n",
      "7\n",
      "8\n",
      "9\n"
     ]
    }
   ],
   "source": [
    "count = 0\n",
    "while (count < 10):\n",
    "    print(count)\n",
    "    count += 1"
   ]
  },
  {
   "cell_type": "code",
   "execution_count": 227,
   "id": "d506283a5d304898",
   "metadata": {
    "ExecuteTime": {
     "end_time": "2023-08-15T06:51:29.426296Z",
     "start_time": "2023-08-15T06:51:28.596102Z"
    },
    "collapsed": false,
    "jupyter": {
     "outputs_hidden": false
    }
   },
   "outputs": [
    {
     "name": "stdout",
     "output_type": "stream",
     "text": [
      "0\n",
      "1\n",
      "2\n",
      "3\n",
      "4\n",
      "5  is not less than 5\n"
     ]
    }
   ],
   "source": [
    "count = 0\n",
    "while (count < 5):\n",
    "    print(count)\n",
    "    count += 1\n",
    "else:\n",
    "    print(count, \" is not less than 5\")"
   ]
  },
  {
   "cell_type": "markdown",
   "id": "7e37f9b169967548",
   "metadata": {
    "collapsed": false,
    "jupyter": {
     "outputs_hidden": false
    }
   },
   "source": [
    "### range()函数\n",
    "如果你需要一个数值序列，内置函数 range() 会很方便，它生成一个等差级数链表:\n",
    "range (start， end， scan):\n",
    "- start:计数从 start 开始。默认是从 0 开始。例如 range(5) 等价于 range(0, 5);\n",
    "- end:计数到 end 结束，但不包括 end.例如：range(0, 5) 是[0, 1, 2, 3, 4]没有 5\n",
    "- scan：每次跳跃的间距，默认为1。例如：range(0, 5) 等价于 range(0, 5, 1)"
   ]
  },
  {
   "cell_type": "code",
   "execution_count": 228,
   "id": "e52e98b73fc81ffc",
   "metadata": {
    "ExecuteTime": {
     "end_time": "2023-08-15T06:51:29.432468Z",
     "start_time": "2023-08-15T06:51:28.601469Z"
    },
    "collapsed": false,
    "jupyter": {
     "outputs_hidden": false
    }
   },
   "outputs": [
    {
     "name": "stdout",
     "output_type": "stream",
     "text": [
      "0\n",
      "1\n",
      "2\n",
      "3\n",
      "4\n",
      "5\n",
      "range(0, 6) finish\n"
     ]
    }
   ],
   "source": [
    "for i in range(6):\n",
    "    print(i)\n",
    "print(range(6), 'finish')"
   ]
  },
  {
   "cell_type": "code",
   "execution_count": 229,
   "id": "c09c849e2c94c3b0",
   "metadata": {
    "ExecuteTime": {
     "end_time": "2023-08-15T06:51:29.434304Z",
     "start_time": "2023-08-15T06:51:28.603584Z"
    },
    "collapsed": false,
    "jupyter": {
     "outputs_hidden": false
    }
   },
   "outputs": [
    {
     "name": "stdout",
     "output_type": "stream",
     "text": [
      "5\n",
      "6\n",
      "7\n",
      "8\n",
      "9\n",
      "range(6, 10) finish\n"
     ]
    }
   ],
   "source": [
    "for i in range(5, 10):\n",
    "    print(i)\n",
    "print(range(6, 10), 'finish')"
   ]
  },
  {
   "cell_type": "code",
   "execution_count": 230,
   "id": "ef025e57b935d557",
   "metadata": {
    "ExecuteTime": {
     "end_time": "2023-08-15T06:51:29.434419Z",
     "start_time": "2023-08-15T06:51:28.608289Z"
    },
    "collapsed": false,
    "jupyter": {
     "outputs_hidden": false
    }
   },
   "outputs": [
    {
     "name": "stdout",
     "output_type": "stream",
     "text": [
      "6\n",
      "8\n",
      "10\n",
      "range(6, 12, 2) finish\n"
     ]
    }
   ],
   "source": [
    "for i in range(6, 12, 2):\n",
    "    print(i)\n",
    "print(range(6, 12, 2), 'finish')"
   ]
  },
  {
   "cell_type": "markdown",
   "id": "bc88072df3e52a3",
   "metadata": {
    "collapsed": false,
    "jupyter": {
     "outputs_hidden": false
    }
   },
   "source": [
    "### break用法\n",
    "break 语句可以跳出 for 和 while 的循环体。如果你从 for 或 while 循环中终止，任何对应的循环 else 块将不执行."
   ]
  },
  {
   "cell_type": "code",
   "execution_count": 231,
   "id": "a9d2b518f1f3f0e1",
   "metadata": {
    "ExecuteTime": {
     "end_time": "2023-08-15T06:51:29.434528Z",
     "start_time": "2023-08-15T06:51:28.611175Z"
    },
    "collapsed": false,
    "jupyter": {
     "outputs_hidden": false
    }
   },
   "outputs": [
    {
     "name": "stdout",
     "output_type": "stream",
     "text": [
      "当前字母： i\n",
      "当前字母： t\n",
      "当前字母： y\n",
      "当前字母： o\n",
      "当前字母： u\n",
      "当前字母： k\n"
     ]
    }
   ],
   "source": [
    "for letter in 'ityouknow':\n",
    "    if letter == 'n':\n",
    "        break\n",
    "    print('当前字母：', letter)"
   ]
  },
  {
   "cell_type": "markdown",
   "id": "ad7000067fc9235f",
   "metadata": {
    "collapsed": false,
    "jupyter": {
     "outputs_hidden": false
    }
   },
   "source": [
    "### continue用法\n",
    "continue 语句被用来跳过当前循环块中的剩余语句，然后继续进行下一轮循环。"
   ]
  },
  {
   "cell_type": "code",
   "execution_count": 232,
   "id": "59a945c863c093be",
   "metadata": {
    "ExecuteTime": {
     "end_time": "2023-08-15T06:51:29.434633Z",
     "start_time": "2023-08-15T06:51:28.615072Z"
    },
    "collapsed": false,
    "jupyter": {
     "outputs_hidden": false
    }
   },
   "outputs": [
    {
     "name": "stdout",
     "output_type": "stream",
     "text": [
      "当前字母： i\n",
      "当前字母： t\n",
      "当前字母： y\n",
      "当前字母： o\n",
      "当前字母： u\n",
      "当前字母： k\n",
      "当前字母： o\n",
      "当前字母： w\n"
     ]
    }
   ],
   "source": [
    "for letter in 'ityouknow':\n",
    "    if letter == 'n':\n",
    "        continue\n",
    "    print('当前字母：', letter)"
   ]
  },
  {
   "cell_type": "markdown",
   "id": "622b07e6f02c2cf9",
   "metadata": {
    "collapsed": false,
    "jupyter": {
     "outputs_hidden": false
    }
   },
   "source": [
    "### pass语句\n",
    "Python pass 是空语句，是为了保持程序结构的完整性。它用于那些语法上必须要有什么语句，但程序什么也不做的场合."
   ]
  },
  {
   "cell_type": "code",
   "execution_count": 233,
   "id": "fcb303f4f1a4a562",
   "metadata": {
    "ExecuteTime": {
     "end_time": "2023-08-15T06:51:29.436296Z",
     "start_time": "2023-08-15T06:51:28.617170Z"
    },
    "collapsed": false,
    "jupyter": {
     "outputs_hidden": false
    }
   },
   "outputs": [],
   "source": [
    "#while True:\n",
    "#    pass  # Busy-wait for keyboard interrupt (Ctrl+C)\n",
    "#\n",
    "#\n",
    "## 这通常用于创建最小结构的类:\n",
    "#\n",
    "#class MyEmptyClass:\n",
    "#    pass"
   ]
  },
  {
   "cell_type": "markdown",
   "id": "2d2b6d816bd9bda8",
   "metadata": {
    "collapsed": false,
    "jupyter": {
     "outputs_hidden": false
    }
   },
   "source": [
    "## 函数"
   ]
  },
  {
   "cell_type": "code",
   "execution_count": 234,
   "id": "1189e6b3a8216ed1",
   "metadata": {
    "ExecuteTime": {
     "end_time": "2023-08-15T06:51:29.436651Z",
     "start_time": "2023-08-15T06:51:28.619698Z"
    },
    "collapsed": false,
    "jupyter": {
     "outputs_hidden": false
    }
   },
   "outputs": [
    {
     "name": "stdout",
     "output_type": "stream",
     "text": [
      "720\n"
     ]
    }
   ],
   "source": [
    "def fact(n):\n",
    "    if n == 1:\n",
    "        return 1\n",
    "    return n * fact(n - 1)\n",
    "\n",
    "\n",
    "print(fact(6))"
   ]
  },
  {
   "cell_type": "markdown",
   "id": "3880a113a8cc00f3",
   "metadata": {
    "collapsed": false,
    "jupyter": {
     "outputs_hidden": false
    }
   },
   "source": [
    "## 字典"
   ]
  },
  {
   "cell_type": "code",
   "execution_count": 235,
   "id": "3897654259e8486f",
   "metadata": {
    "ExecuteTime": {
     "end_time": "2023-08-15T06:51:29.436758Z",
     "start_time": "2023-08-15T06:51:28.623355Z"
    },
    "collapsed": false,
    "jupyter": {
     "outputs_hidden": false
    }
   },
   "outputs": [
    {
     "name": "stdout",
     "output_type": "stream",
     "text": [
      "{'name': 'zhangsan', 'age': 13}\n"
     ]
    }
   ],
   "source": [
    "dict1 = {'name': \"zhangsan\", 'age': 13}\n",
    "print(dict1)\n"
   ]
  },
  {
   "cell_type": "code",
   "execution_count": 236,
   "id": "878cf6e9",
   "metadata": {
    "ExecuteTime": {
     "end_time": "2023-08-15T06:51:29.436857Z",
     "start_time": "2023-08-15T06:51:28.625956Z"
    }
   },
   "outputs": [
    {
     "name": "stdout",
     "output_type": "stream",
     "text": [
      "zhangsan\n"
     ]
    }
   ],
   "source": [
    "print(dict1['name'])"
   ]
  },
  {
   "cell_type": "code",
   "execution_count": 237,
   "id": "6fb98c31",
   "metadata": {
    "ExecuteTime": {
     "end_time": "2023-08-15T06:51:29.436954Z",
     "start_time": "2023-08-15T06:51:28.628460Z"
    }
   },
   "outputs": [
    {
     "name": "stdout",
     "output_type": "stream",
     "text": [
      "{12: 'big', 0: 'white'}\n"
     ]
    }
   ],
   "source": [
    "MyCon = {12: 'big', 0: 'white'}\n",
    "print(MyCon)"
   ]
  },
  {
   "cell_type": "code",
   "execution_count": 238,
   "id": "63d98ed6",
   "metadata": {
    "ExecuteTime": {
     "end_time": "2023-08-15T06:51:29.437057Z",
     "start_time": "2023-08-15T06:51:28.630536Z"
    }
   },
   "outputs": [
    {
     "name": "stdout",
     "output_type": "stream",
     "text": [
      "big\n"
     ]
    }
   ],
   "source": [
    "print(MyCon[12])"
   ]
  },
  {
   "cell_type": "code",
   "execution_count": 239,
   "id": "7e432484",
   "metadata": {
    "ExecuteTime": {
     "end_time": "2023-08-15T06:51:29.437107Z",
     "start_time": "2023-08-15T06:51:28.632416Z"
    }
   },
   "outputs": [],
   "source": [
    "#print(MyCon['col'])"
   ]
  },
  {
   "cell_type": "code",
   "execution_count": 240,
   "id": "f950914d",
   "metadata": {
    "ExecuteTime": {
     "end_time": "2023-08-15T06:51:29.448774Z",
     "start_time": "2023-08-15T06:51:28.634651Z"
    },
    "collapsed": false,
    "jupyter": {
     "outputs_hidden": false
    }
   },
   "outputs": [
    {
     "name": "stdout",
     "output_type": "stream",
     "text": [
      "{'Name': 'Fiona', 'Age': 10, 'Class': 'Three'}\n",
      "{'Name': 'test', 'Age': 10, 'Class': 'Three'}\n",
      "{'Name': 'test', 'Age': 10, 'Class': 'Three', 'SSS': 'a'}\n"
     ]
    }
   ],
   "source": [
    "# 修改字典元素\n",
    "dict = {'Name': 'Fiona', 'Age': 10, 'Class': 'Three'}\n",
    "print(dict)\n",
    "# 更新\n",
    "dict['Name'] = 'test'\n",
    "print(dict)\n",
    "# 新增\n",
    "dict['SSS'] = 'a'\n",
    "print(dict)"
   ]
  },
  {
   "cell_type": "code",
   "execution_count": 241,
   "id": "49b50085c7b3fe63",
   "metadata": {
    "ExecuteTime": {
     "end_time": "2023-08-15T06:51:29.449074Z",
     "start_time": "2023-08-15T06:51:28.637400Z"
    },
    "collapsed": false,
    "jupyter": {
     "outputs_hidden": false
    }
   },
   "outputs": [
    {
     "name": "stdout",
     "output_type": "stream",
     "text": [
      "{'Name': 'Fiona', 'Age': 10, 'Class': 'Three'}\n",
      "{'Age': 10, 'Class': 'Three'}\n",
      "{}\n",
      "dict['School']:  dict['School']\n"
     ]
    }
   ],
   "source": [
    "# 删除\n",
    "dict = {'Name': 'Fiona', 'Age': 10, 'Class': 'Three'}\n",
    "print(dict)\n",
    "del dict['Name']\n",
    "print(dict)\n",
    "# 清空字典所有条目\n",
    "dict.clear()\n",
    "print(dict)\n",
    "# 删除整个字典元素\n",
    "del dict\n",
    "print(\"dict['School']: \", dict['School'])"
   ]
  },
  {
   "cell_type": "markdown",
   "id": "549935b0313ac5bc",
   "metadata": {
    "collapsed": false,
    "jupyter": {
     "outputs_hidden": false
    }
   },
   "source": [
    "### 字典函数"
   ]
  },
  {
   "cell_type": "code",
   "execution_count": 242,
   "id": "d8adbdcb5768a275",
   "metadata": {
    "ExecuteTime": {
     "end_time": "2023-08-15T06:51:29.449138Z",
     "start_time": "2023-08-15T06:51:28.639481Z"
    },
    "collapsed": false,
    "jupyter": {
     "outputs_hidden": false
    }
   },
   "outputs": [],
   "source": [
    "dict = {'Name': 'Fiona', 'Age': 10, 'class': 'Three'}"
   ]
  },
  {
   "cell_type": "code",
   "execution_count": 243,
   "id": "11da02008abb78b5",
   "metadata": {
    "ExecuteTime": {
     "end_time": "2023-08-15T06:51:29.449268Z",
     "start_time": "2023-08-15T06:51:28.641697Z"
    },
    "collapsed": false,
    "jupyter": {
     "outputs_hidden": false
    }
   },
   "outputs": [
    {
     "data": {
      "text/plain": [
       "3"
      ]
     },
     "execution_count": 243,
     "metadata": {},
     "output_type": "execute_result"
    }
   ],
   "source": [
    "# len\n",
    "len(dict)"
   ]
  },
  {
   "cell_type": "code",
   "execution_count": 244,
   "id": "9d43e555e7665807",
   "metadata": {
    "ExecuteTime": {
     "end_time": "2023-08-15T06:51:29.449375Z",
     "start_time": "2023-08-15T06:51:28.643926Z"
    },
    "collapsed": false,
    "jupyter": {
     "outputs_hidden": false
    }
   },
   "outputs": [
    {
     "data": {
      "text/plain": [
       "\"{'Name': 'Fiona', 'Age': 10, 'class': 'Three'}\""
      ]
     },
     "execution_count": 244,
     "metadata": {},
     "output_type": "execute_result"
    }
   ],
   "source": [
    "str(dict)"
   ]
  },
  {
   "cell_type": "code",
   "execution_count": 245,
   "id": "5002997930b0d6b1",
   "metadata": {
    "ExecuteTime": {
     "end_time": "2023-08-15T06:51:29.449471Z",
     "start_time": "2023-08-15T06:51:28.646325Z"
    },
    "collapsed": false,
    "jupyter": {
     "outputs_hidden": false
    }
   },
   "outputs": [
    {
     "name": "stdout",
     "output_type": "stream",
     "text": [
      "<class 'dict'>\n"
     ]
    }
   ],
   "source": [
    "print(type(dict))"
   ]
  },
  {
   "cell_type": "markdown",
   "id": "15b4134d4ef9cbac",
   "metadata": {
    "collapsed": false,
    "jupyter": {
     "outputs_hidden": false
    }
   },
   "source": [
    "### 字典方法"
   ]
  },
  {
   "cell_type": "code",
   "execution_count": 246,
   "id": "fe91e504c3b51f7c",
   "metadata": {
    "ExecuteTime": {
     "end_time": "2023-08-15T06:51:29.449520Z",
     "start_time": "2023-08-15T06:51:28.648303Z"
    },
    "collapsed": false,
    "jupyter": {
     "outputs_hidden": false
    }
   },
   "outputs": [],
   "source": [
    "# dict.clear()"
   ]
  },
  {
   "cell_type": "code",
   "execution_count": 247,
   "id": "a5e6ba5aa53cd832",
   "metadata": {
    "ExecuteTime": {
     "end_time": "2023-08-15T06:51:29.449630Z",
     "start_time": "2023-08-15T06:51:28.650265Z"
    },
    "collapsed": false,
    "jupyter": {
     "outputs_hidden": false
    }
   },
   "outputs": [
    {
     "data": {
      "text/plain": [
       "{'Name': 'Fiona', 'Age': 10, 'class': 'Three'}"
      ]
     },
     "execution_count": 247,
     "metadata": {},
     "output_type": "execute_result"
    }
   ],
   "source": [
    "dict_new = dict.copy()\n",
    "# dict.clear()\n",
    "dict_new"
   ]
  },
  {
   "cell_type": "code",
   "execution_count": 248,
   "id": "5d4796133042d3da",
   "metadata": {
    "ExecuteTime": {
     "end_time": "2023-08-15T06:51:29.449767Z",
     "start_time": "2023-08-15T06:51:28.652970Z"
    },
    "collapsed": false,
    "jupyter": {
     "outputs_hidden": false
    }
   },
   "outputs": [
    {
     "data": {
      "text/plain": [
       "{'name': ('a', 18, 'x'), 'age': ('a', 18, 'x'), 'class': ('a', 18, 'x')}"
      ]
     },
     "execution_count": 248,
     "metadata": {},
     "output_type": "execute_result"
    }
   ],
   "source": [
    "seq = ('name', 'age', 'class')\n",
    "dict = dict.fromkeys(seq)\n",
    "dict = dict.fromkeys(seq, ('a', 18, 'x'))\n",
    "dict"
   ]
  },
  {
   "cell_type": "code",
   "execution_count": 249,
   "id": "c74f38248ae8a294",
   "metadata": {
    "ExecuteTime": {
     "end_time": "2023-08-15T06:51:29.449865Z",
     "start_time": "2023-08-15T06:51:28.654842Z"
    },
    "collapsed": false,
    "jupyter": {
     "outputs_hidden": false
    }
   },
   "outputs": [
    {
     "name": "stdout",
     "output_type": "stream",
     "text": [
      "Mary\n",
      "N\n"
     ]
    }
   ],
   "source": [
    "dict = {'Name': 'Mary', 'Age': 20}\n",
    "print(dict.get('Name'))\n",
    "print(dict.get('X', 'N'))"
   ]
  },
  {
   "cell_type": "code",
   "execution_count": 250,
   "id": "22dd9436cbb77599",
   "metadata": {
    "ExecuteTime": {
     "end_time": "2023-08-15T06:51:29.449963Z",
     "start_time": "2023-08-15T06:51:28.657284Z"
    },
    "collapsed": false,
    "jupyter": {
     "outputs_hidden": false
    }
   },
   "outputs": [
    {
     "name": "stdout",
     "output_type": "stream",
     "text": [
      "Name in dict\n"
     ]
    }
   ],
   "source": [
    "dict = {'Name': 'Mary', 'Age': 20, 'Address': 'BeiJing'}\n",
    "if 'Name' in dict:\n",
    "    print('Name in dict')\n",
    "else:\n",
    "    print('Name not in dict')"
   ]
  },
  {
   "cell_type": "code",
   "execution_count": 251,
   "id": "1fa7af3e360dd79b",
   "metadata": {
    "ExecuteTime": {
     "end_time": "2023-08-15T06:51:29.450140Z",
     "start_time": "2023-08-15T06:51:28.660329Z"
    },
    "collapsed": false,
    "jupyter": {
     "outputs_hidden": false
    }
   },
   "outputs": [
    {
     "name": "stdout",
     "output_type": "stream",
     "text": [
      "k = Name, v = Mary\n",
      "k = Age, v = 17\n"
     ]
    },
    {
     "data": {
      "text/plain": [
       "[('Name', 'Mary'), ('Age', 17)]"
      ]
     },
     "execution_count": 251,
     "metadata": {},
     "output_type": "execute_result"
    }
   ],
   "source": [
    "dict = {'Name': 'Mary', 'Age': 17}\n",
    "for k, v in dict.items():\n",
    "    print(f\"k = {k}, v = {v}\")\n",
    "\n",
    "list(dict.items())"
   ]
  },
  {
   "cell_type": "code",
   "execution_count": 252,
   "id": "fcceb328f299670",
   "metadata": {
    "ExecuteTime": {
     "end_time": "2023-08-15T06:51:29.450327Z",
     "start_time": "2023-08-15T06:51:28.663172Z"
    },
    "collapsed": false,
    "jupyter": {
     "outputs_hidden": false
    }
   },
   "outputs": [
    {
     "name": "stdout",
     "output_type": "stream",
     "text": [
      "Name\n",
      "Age\n"
     ]
    },
    {
     "data": {
      "text/plain": [
       "['Name', 'Age']"
      ]
     },
     "execution_count": 252,
     "metadata": {},
     "output_type": "execute_result"
    }
   ],
   "source": [
    "for k in dict.keys():\n",
    "    print(k)\n",
    "\n",
    "list(dict.keys())"
   ]
  },
  {
   "cell_type": "markdown",
   "id": "f90035ea7ee93597",
   "metadata": {
    "collapsed": false,
    "jupyter": {
     "outputs_hidden": false
    }
   },
   "source": []
  },
  {
   "cell_type": "markdown",
   "id": "78039bb3b28aa6b2",
   "metadata": {
    "collapsed": false,
    "jupyter": {
     "outputs_hidden": false
    }
   },
   "source": [
    "## 集合"
   ]
  },
  {
   "cell_type": "code",
   "execution_count": 262,
   "id": "d2ebf80370c826ee",
   "metadata": {
    "ExecuteTime": {
     "end_time": "2023-08-16T04:27:36.979722Z",
     "start_time": "2023-08-16T04:27:36.945804Z"
    },
    "collapsed": false,
    "jupyter": {
     "outputs_hidden": false
    }
   },
   "outputs": [
    {
     "name": "stdout",
     "output_type": "stream",
     "text": [
      "{'hello', 'world'}\n"
     ]
    }
   ],
   "source": [
    "# set 可以将tuple中的元素展出\n",
    "s = set(('hello', 'world'))\n",
    "print(s)"
   ]
  },
  {
   "cell_type": "markdown",
   "id": "8404471ba78fdca1",
   "metadata": {
    "collapsed": false,
    "jupyter": {
     "outputs_hidden": false
    }
   },
   "source": [
    "## 添加元素\n",
    "### add"
   ]
  },
  {
   "cell_type": "code",
   "execution_count": 263,
   "id": "b4f36fa0647a2d22",
   "metadata": {
    "ExecuteTime": {
     "end_time": "2023-08-16T04:27:39.358255Z",
     "start_time": "2023-08-16T04:27:39.321821Z"
    },
    "collapsed": false,
    "jupyter": {
     "outputs_hidden": false
    }
   },
   "outputs": [
    {
     "name": "stdout",
     "output_type": "stream",
     "text": [
      "{'hello', '!', 'world'}\n"
     ]
    }
   ],
   "source": [
    "s.add('!')\n",
    "print(s)"
   ]
  },
  {
   "cell_type": "markdown",
   "id": "767f609975ea06d6",
   "metadata": {
    "collapsed": false,
    "jupyter": {
     "outputs_hidden": false
    }
   },
   "source": [
    "### update"
   ]
  },
  {
   "cell_type": "code",
   "execution_count": 264,
   "id": "af74d31a993ef17b",
   "metadata": {
    "ExecuteTime": {
     "end_time": "2023-08-16T04:28:28.417579Z",
     "start_time": "2023-08-16T04:28:28.360766Z"
    },
    "collapsed": false,
    "jupyter": {
     "outputs_hidden": false
    }
   },
   "outputs": [
    {
     "data": {
      "text/plain": [
       "{'!', 1, 2, 3, 4, 'hello', 'world'}"
      ]
     },
     "execution_count": 264,
     "metadata": {},
     "output_type": "execute_result"
    }
   ],
   "source": [
    "s.update([1, 3], [2, 4])\n",
    "s"
   ]
  },
  {
   "cell_type": "code",
   "execution_count": 265,
   "id": "cfbf614efae8b21",
   "metadata": {
    "ExecuteTime": {
     "end_time": "2023-08-16T04:28:47.401154Z",
     "start_time": "2023-08-16T04:28:47.339978Z"
    },
    "collapsed": false,
    "jupyter": {
     "outputs_hidden": false
    }
   },
   "outputs": [
    {
     "data": {
      "text/plain": [
       "{'!', 1, 2, 3, 4, 'h', 'hello', 'j', 'world'}"
      ]
     },
     "execution_count": 265,
     "metadata": {},
     "output_type": "execute_result"
    }
   ],
   "source": [
    "s.update(('h', 'j'))\n",
    "s"
   ]
  },
  {
   "cell_type": "markdown",
   "id": "2308f7c947e9ef31",
   "metadata": {
    "collapsed": false,
    "jupyter": {
     "outputs_hidden": false
    }
   },
   "source": [
    "### 删除"
   ]
  },
  {
   "cell_type": "code",
   "execution_count": 266,
   "id": "aa80d8caee97525",
   "metadata": {
    "ExecuteTime": {
     "end_time": "2023-08-16T04:29:58.233301Z",
     "start_time": "2023-08-16T04:29:58.173716Z"
    },
    "collapsed": false,
    "jupyter": {
     "outputs_hidden": false
    }
   },
   "outputs": [
    {
     "name": "stdout",
     "output_type": "stream",
     "text": [
      "{1, 2, 3, 4, 'hello', 'j', 'h', 'world', '!'}\n"
     ]
    }
   ],
   "source": [
    "print(s)"
   ]
  },
  {
   "cell_type": "code",
   "execution_count": 267,
   "id": "624a6aab9b91fe83",
   "metadata": {
    "ExecuteTime": {
     "end_time": "2023-08-16T04:30:07.752363Z",
     "start_time": "2023-08-16T04:30:07.684599Z"
    },
    "collapsed": false,
    "jupyter": {
     "outputs_hidden": false
    }
   },
   "outputs": [
    {
     "name": "stdout",
     "output_type": "stream",
     "text": [
      "{2, 3, 4, 'hello', 'j', 'h', 'world', '!'}\n"
     ]
    }
   ],
   "source": [
    "s.remove(1)\n",
    "print(s)"
   ]
  },
  {
   "cell_type": "code",
   "execution_count": 268,
   "id": "d8f8cb41aabd9cae",
   "metadata": {
    "ExecuteTime": {
     "end_time": "2023-08-16T04:30:38.951667Z",
     "start_time": "2023-08-16T04:30:38.892176Z"
    },
    "collapsed": false,
    "jupyter": {
     "outputs_hidden": false
    }
   },
   "outputs": [
    {
     "ename": "KeyError",
     "evalue": "'hi'",
     "output_type": "error",
     "traceback": [
      "\u001b[0;31m---------------------------------------------------------------------------\u001b[0m",
      "\u001b[0;31mKeyError\u001b[0m                                  Traceback (most recent call last)",
      "Cell \u001b[0;32mIn[268], line 2\u001b[0m\n\u001b[1;32m      1\u001b[0m \u001b[38;5;66;03m# 移除不存在的元素\u001b[39;00m\n\u001b[0;32m----> 2\u001b[0m \u001b[43ms\u001b[49m\u001b[38;5;241;43m.\u001b[39;49m\u001b[43mremove\u001b[49m\u001b[43m(\u001b[49m\u001b[38;5;124;43m'\u001b[39;49m\u001b[38;5;124;43mhi\u001b[39;49m\u001b[38;5;124;43m'\u001b[39;49m\u001b[43m)\u001b[49m\n\u001b[1;32m      3\u001b[0m \u001b[38;5;28mprint\u001b[39m(s)\n",
      "\u001b[0;31mKeyError\u001b[0m: 'hi'"
     ]
    }
   ],
   "source": [
    "# 移除不存在的元素，会报错\n",
    "s.remove('hi')\n",
    "print(s)"
   ]
  },
  {
   "cell_type": "code",
   "execution_count": 269,
   "id": "416f872f5c7449a2",
   "metadata": {
    "ExecuteTime": {
     "end_time": "2023-08-16T04:33:01.592553Z",
     "start_time": "2023-08-16T04:33:01.533178Z"
    },
    "collapsed": false,
    "jupyter": {
     "outputs_hidden": false
    }
   },
   "outputs": [
    {
     "name": "stdout",
     "output_type": "stream",
     "text": [
      "{2, 3, 4, 'hello', 'j', 'h', 'world', '!'}\n"
     ]
    }
   ],
   "source": [
    "# 移除不存在元素不报错\n",
    "s.discard('hi')\n",
    "print(s)"
   ]
  },
  {
   "cell_type": "code",
   "execution_count": 270,
   "id": "ff54e1aeb122acee",
   "metadata": {
    "ExecuteTime": {
     "end_time": "2023-08-16T04:33:57.013016Z",
     "start_time": "2023-08-16T04:33:56.944929Z"
    },
    "collapsed": false,
    "jupyter": {
     "outputs_hidden": false
    }
   },
   "outputs": [
    {
     "name": "stdout",
     "output_type": "stream",
     "text": [
      "{2, 3, 4, 'hello', 'j', 'h', 'world', '!'}\n",
      "{3, 4, 'hello', 'j', 'h', 'world', '!'}\n"
     ]
    }
   ],
   "source": [
    "# 随机删除元素\n",
    "print(s)\n",
    "s.pop()\n",
    "print(s)"
   ]
  },
  {
   "cell_type": "code",
   "execution_count": null,
   "id": "ba59a4eb7a918ab6",
   "metadata": {
    "collapsed": false,
    "jupyter": {
     "outputs_hidden": false
    }
   },
   "outputs": [],
   "source": []
  }
 ],
 "metadata": {
  "kernelspec": {
   "display_name": "kd_ksot_airflow",
   "language": "python",
   "name": "kd_ksot_airflow"
  },
  "language_info": {
   "codemirror_mode": {
    "name": "ipython",
    "version": 3
   },
   "file_extension": ".py",
   "mimetype": "text/x-python",
   "name": "python",
   "nbconvert_exporter": "python",
   "pygments_lexer": "ipython3",
   "version": "3.11.3"
  }
 },
 "nbformat": 4,
 "nbformat_minor": 5
}
