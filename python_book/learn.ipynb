{
 "cells": [
  {
   "cell_type": "markdown",
   "id": "8849045998bb640e",
   "metadata": {},
   "source": [
    "# 基础\n",
    "## 变量\n",
    "1. 在Python 中，等号 = 是赋值语句，可以把任意数据类型赋值给变量，同一个变量可以反复赋值，而且可以是不同类型的变量"
   ]
  },
  {
   "cell_type": "code",
   "execution_count": 1,
   "id": "effc7e9f02d5282c",
   "metadata": {
    "ExecuteTime": {
     "end_time": "2023-08-03T05:42:05.471167Z",
     "start_time": "2023-08-03T05:42:05.379915Z"
    }
   },
   "outputs": [
    {
     "name": "stdout",
     "output_type": "stream",
     "text": [
      "123\n"
     ]
    }
   ],
   "source": [
    "a = 123\n",
    "print(a)"
   ]
  },
  {
   "cell_type": "code",
   "execution_count": 2,
   "id": "da01e115b0345a48",
   "metadata": {
    "ExecuteTime": {
     "end_time": "2023-08-03T05:42:05.471333Z",
     "start_time": "2023-08-03T05:42:05.384477Z"
    }
   },
   "outputs": [
    {
     "name": "stdout",
     "output_type": "stream",
     "text": [
      "abc\n"
     ]
    }
   ],
   "source": [
    "a = 'abc'\n",
    "print(a)"
   ]
  },
  {
   "cell_type": "markdown",
   "id": "5c3849e75e8f15a8",
   "metadata": {},
   "source": [
    "2.多个变量赋值"
   ]
  },
  {
   "cell_type": "code",
   "execution_count": 3,
   "id": "e8f4413caa2163c5",
   "metadata": {
    "ExecuteTime": {
     "end_time": "2023-08-03T05:42:05.471430Z",
     "start_time": "2023-08-03T05:42:05.387734Z"
    }
   },
   "outputs": [
    {
     "name": "stdout",
     "output_type": "stream",
     "text": [
      "a = 1, b = 1, c = 1\n"
     ]
    }
   ],
   "source": [
    "a = b = c = 1\n",
    "print('a = ' + str(a) + ', b = ' + str(b) + ', c = ' + str(c))"
   ]
  },
  {
   "cell_type": "code",
   "execution_count": 4,
   "id": "487fd4f85420841a",
   "metadata": {
    "ExecuteTime": {
     "end_time": "2023-08-03T05:42:05.519156Z",
     "start_time": "2023-08-03T05:42:05.393897Z"
    }
   },
   "outputs": [
    {
     "name": "stdout",
     "output_type": "stream",
     "text": [
      "a = 1, b = 2, c = sean\n"
     ]
    }
   ],
   "source": [
    "a, b, c = 1, 2, \"sean\"\n",
    "print('a = ' + str(a) + ', b = ' + str(b) + ', c = ' + str(c))"
   ]
  },
  {
   "cell_type": "markdown",
   "id": "68508d1ab454c15f",
   "metadata": {},
   "source": [
    "## 数据类型\n",
    "### 不可变类型\n",
    "Number（数字）、String（字符串）、Tuple（元组）\n",
    "### 可变类型\n",
    "List（列表）、Dictionary（字典）、Set（集合）\n"
   ]
  },
  {
   "cell_type": "markdown",
   "id": "8953058cd3177901",
   "metadata": {},
   "source": [
    "### Number\n",
    "#### 整型(int)\n",
    "python3中int没有长度限制，可以当成long来使用；python2中int有长度限制，且有long类型。\n",
    "#### 浮点型\n",
    "#### 复数"
   ]
  },
  {
   "cell_type": "code",
   "execution_count": 5,
   "id": "826df6b305a2a7e1",
   "metadata": {
    "ExecuteTime": {
     "end_time": "2023-08-03T05:42:05.520752Z",
     "start_time": "2023-08-03T05:42:05.400422Z"
    },
    "collapsed": false
   },
   "outputs": [
    {
     "name": "stdout",
     "output_type": "stream",
     "text": [
      "100\n",
      "1000.0\n",
      "test\n"
     ]
    }
   ],
   "source": [
    "counter = 100  # 整型\n",
    "miles = 1000.0  # 浮点型\n",
    "name = \"test\"  # 字符串\n",
    "print(counter)\n",
    "print(miles)\n",
    "print(name)"
   ]
  },
  {
   "cell_type": "markdown",
   "id": "27faec73621b4d3b",
   "metadata": {},
   "source": [
    "#### 数字类型转换\n",
    "- int(x):将x转换为一个整数\n",
    "- float(x):将x转换为一个浮点数\n",
    "- complex(x):将x转换为一个复数，实数部分为x，虚数部分为0；\n",
    "- complex(x,y):将x、y转换为一个复数，实数部分为x，虚数部分为y。"
   ]
  },
  {
   "cell_type": "markdown",
   "id": "8a9ef7ef7fc10ca3",
   "metadata": {
    "collapsed": false
   },
   "source": [
    "#### 数值运算"
   ]
  },
  {
   "cell_type": "code",
   "execution_count": 6,
   "id": "45a28fa7183a60a8",
   "metadata": {
    "ExecuteTime": {
     "end_time": "2023-08-03T05:42:05.522021Z",
     "start_time": "2023-08-03T05:42:05.408565Z"
    },
    "collapsed": false
   },
   "outputs": [
    {
     "name": "stdout",
     "output_type": "stream",
     "text": [
      "9\n",
      "2.3\n",
      "21\n",
      "0.5\n",
      "0\n",
      "2\n",
      "32\n"
     ]
    }
   ],
   "source": [
    "print(5 + 4)\n",
    "print(4.3 - 2)\n",
    "print(3 * 7)\n",
    "print(2 / 4)  # 除法，得到一个浮点数    输出0.5\n",
    "print(2 // 4)  # 除法，得到一个整数      输出0\n",
    "print(17 % 3)  #求余\n",
    "print(2 ** 5)  # 乘方"
   ]
  },
  {
   "cell_type": "markdown",
   "id": "6d57287453a50014",
   "metadata": {
    "collapsed": false
   },
   "source": [
    "### 字符串"
   ]
  },
  {
   "cell_type": "code",
   "execution_count": 7,
   "id": "b86378767e03d57d",
   "metadata": {
    "ExecuteTime": {
     "end_time": "2023-08-03T05:42:05.533587Z",
     "start_time": "2023-08-03T05:42:05.415412Z"
    },
    "collapsed": false
   },
   "outputs": [],
   "source": [
    "strSource = '学习Python'"
   ]
  },
  {
   "cell_type": "markdown",
   "id": "744382c8afbdeca3",
   "metadata": {
    "collapsed": false
   },
   "source": [
    "#### 切片"
   ]
  },
  {
   "cell_type": "code",
   "execution_count": 8,
   "id": "f4913185dee74233",
   "metadata": {
    "ExecuteTime": {
     "end_time": "2023-08-03T05:42:05.536314Z",
     "start_time": "2023-08-03T05:42:05.419383Z"
    },
    "collapsed": false
   },
   "outputs": [
    {
     "data": {
      "text/plain": [
       "'学'"
      ]
     },
     "execution_count": 8,
     "metadata": {},
     "output_type": "execute_result"
    }
   ],
   "source": [
    "strSource[0]"
   ]
  },
  {
   "cell_type": "code",
   "execution_count": 9,
   "id": "6b340a2d7b392f61",
   "metadata": {
    "ExecuteTime": {
     "end_time": "2023-08-03T05:42:05.546181Z",
     "start_time": "2023-08-03T05:42:05.422545Z"
    },
    "collapsed": false
   },
   "outputs": [
    {
     "data": {
      "text/plain": [
       "'n'"
      ]
     },
     "execution_count": 9,
     "metadata": {},
     "output_type": "execute_result"
    }
   ],
   "source": [
    "strSource[-1]"
   ]
  },
  {
   "cell_type": "code",
   "execution_count": 10,
   "id": "491c221a11bc480f",
   "metadata": {
    "ExecuteTime": {
     "end_time": "2023-08-03T05:42:05.551820Z",
     "start_time": "2023-08-03T05:42:05.425482Z"
    },
    "collapsed": false
   },
   "outputs": [
    {
     "data": {
      "text/plain": [
       "'ython'"
      ]
     },
     "execution_count": 10,
     "metadata": {},
     "output_type": "execute_result"
    }
   ],
   "source": [
    "strSource[3:]"
   ]
  },
  {
   "cell_type": "code",
   "execution_count": 11,
   "id": "883b97dd4df905ee",
   "metadata": {
    "ExecuteTime": {
     "end_time": "2023-08-03T05:42:05.552007Z",
     "start_time": "2023-08-03T05:42:05.428744Z"
    },
    "collapsed": false
   },
   "outputs": [
    {
     "data": {
      "text/plain": [
       "'nohtyP习学'"
      ]
     },
     "execution_count": 11,
     "metadata": {},
     "output_type": "execute_result"
    }
   ],
   "source": [
    "strSource[::-1]"
   ]
  },
  {
   "cell_type": "markdown",
   "id": "47276afbd767f4ee",
   "metadata": {
    "collapsed": false
   },
   "source": [
    "#### 替换"
   ]
  },
  {
   "cell_type": "code",
   "execution_count": 12,
   "id": "924975681d62c77",
   "metadata": {
    "ExecuteTime": {
     "end_time": "2023-08-03T05:42:05.559983Z",
     "start_time": "2023-08-03T05:42:05.432571Z"
    },
    "collapsed": false
   },
   "outputs": [
    {
     "data": {
      "text/plain": [
       "'学习scala'"
      ]
     },
     "execution_count": 12,
     "metadata": {},
     "output_type": "execute_result"
    }
   ],
   "source": [
    "strSource.replace('Python', 'scala')"
   ]
  },
  {
   "cell_type": "markdown",
   "id": "a94c6ff467e4a37f",
   "metadata": {
    "collapsed": false
   },
   "source": [
    "#### 查找"
   ]
  },
  {
   "cell_type": "code",
   "execution_count": 13,
   "id": "da7d85c8ae311d11",
   "metadata": {
    "ExecuteTime": {
     "end_time": "2023-08-03T05:42:05.560241Z",
     "start_time": "2023-08-03T05:42:05.435261Z"
    },
    "collapsed": false
   },
   "outputs": [
    {
     "data": {
      "text/plain": [
       "2"
      ]
     },
     "execution_count": 13,
     "metadata": {},
     "output_type": "execute_result"
    }
   ],
   "source": [
    "strSource.find('P')  # 返回子串第一次出现的索引下标"
   ]
  },
  {
   "cell_type": "code",
   "execution_count": 14,
   "id": "7d0ccd04cdf4cfe8",
   "metadata": {
    "ExecuteTime": {
     "end_time": "2023-08-03T05:42:05.560336Z",
     "start_time": "2023-08-03T05:42:05.438354Z"
    },
    "collapsed": false
   },
   "outputs": [
    {
     "data": {
      "text/plain": [
       "5"
      ]
     },
     "execution_count": 14,
     "metadata": {},
     "output_type": "execute_result"
    }
   ],
   "source": [
    "strSource.find('h', 2)  # 设置从索引为2起始查找(返回的是子串实际索引位置，并不会因为从索引2开始查找使得起索引变更)"
   ]
  },
  {
   "cell_type": "code",
   "execution_count": 15,
   "id": "6cae943c9c5a3aeb",
   "metadata": {
    "ExecuteTime": {
     "end_time": "2023-08-03T05:42:05.569049Z",
     "start_time": "2023-08-03T05:42:05.442168Z"
    },
    "collapsed": false
   },
   "outputs": [
    {
     "data": {
      "text/plain": [
       "-1"
      ]
     },
     "execution_count": 15,
     "metadata": {},
     "output_type": "execute_result"
    }
   ],
   "source": [
    "strSource.find('srasd')  # 查找不到子串，返回-1"
   ]
  },
  {
   "cell_type": "code",
   "execution_count": 16,
   "id": "376c1ca02a902f64",
   "metadata": {
    "ExecuteTime": {
     "end_time": "2023-08-03T05:42:05.572482Z",
     "start_time": "2023-08-03T05:42:05.445765Z"
    },
    "collapsed": false
   },
   "outputs": [
    {
     "data": {
      "text/plain": [
       "5"
      ]
     },
     "execution_count": 16,
     "metadata": {},
     "output_type": "execute_result"
    }
   ],
   "source": [
    "strSource.index('h')"
   ]
  },
  {
   "cell_type": "code",
   "execution_count": 17,
   "id": "bb3741a6253d6635",
   "metadata": {
    "ExecuteTime": {
     "end_time": "2023-08-03T05:42:05.576007Z",
     "start_time": "2023-08-03T05:42:05.449750Z"
    },
    "collapsed": false
   },
   "outputs": [
    {
     "ename": "ValueError",
     "evalue": "substring not found",
     "output_type": "error",
     "traceback": [
      "\u001b[0;31m---------------------------------------------------------------------------\u001b[0m",
      "\u001b[0;31mValueError\u001b[0m                                Traceback (most recent call last)",
      "Cell \u001b[0;32mIn[17], line 1\u001b[0m\n\u001b[0;32m----> 1\u001b[0m strSource\u001b[39m.\u001b[39;49mindex(\u001b[39m'\u001b[39;49m\u001b[39msasddd\u001b[39;49m\u001b[39m'\u001b[39;49m)  \u001b[39m# index查找不到子串时会抛异常，而find只是返回-1，不会抛异常\u001b[39;00m\n",
      "\u001b[0;31mValueError\u001b[0m: substring not found"
     ]
    }
   ],
   "source": [
    "strSource.index('sasddd')  # index查找不到子串时会抛异常，而find只是返回-1，不会抛异常"
   ]
  },
  {
   "cell_type": "markdown",
   "id": "7eeb60e58ead7bdb",
   "metadata": {
    "collapsed": false
   },
   "source": [
    "#### 转大小写   upper()、lower()、swapcase()、capitalize()、istitle()、isupper()、islower()"
   ]
  },
  {
   "cell_type": "code",
   "execution_count": null,
   "id": "968b2c62e615ec55",
   "metadata": {
    "ExecuteTime": {
     "start_time": "2023-08-03T05:42:05.456135Z"
    },
    "collapsed": false
   },
   "outputs": [],
   "source": [
    "strSource.upper()"
   ]
  },
  {
   "cell_type": "code",
   "execution_count": null,
   "id": "35add0bccdeb0522",
   "metadata": {
    "ExecuteTime": {
     "start_time": "2023-08-03T05:42:05.457228Z"
    },
    "collapsed": false
   },
   "outputs": [],
   "source": [
    "strSource.swapcase()  # 大小写互换"
   ]
  },
  {
   "cell_type": "code",
   "execution_count": null,
   "id": "b7be0a0b80b005b2",
   "metadata": {
    "ExecuteTime": {
     "start_time": "2023-08-03T05:42:05.458426Z"
    },
    "collapsed": false
   },
   "outputs": [],
   "source": [
    "strSource.istitle()"
   ]
  },
  {
   "cell_type": "code",
   "execution_count": null,
   "id": "b6a63004b67cc9f",
   "metadata": {
    "ExecuteTime": {
     "start_time": "2023-08-03T05:42:05.459401Z"
    },
    "collapsed": false
   },
   "outputs": [],
   "source": [
    "strSource.islower()"
   ]
  },
  {
   "cell_type": "markdown",
   "id": "1d0a8ab3d34acaf1",
   "metadata": {
    "collapsed": false
   },
   "source": [
    "#### 去空格，strip()、lstrip()、rstrip()"
   ]
  },
  {
   "cell_type": "code",
   "execution_count": null,
   "id": "d8aa08ee89bc180f",
   "metadata": {
    "ExecuteTime": {
     "start_time": "2023-08-03T05:42:05.460533Z"
    },
    "collapsed": false
   },
   "outputs": [],
   "source": [
    "strSource.strip()"
   ]
  },
  {
   "cell_type": "code",
   "execution_count": null,
   "id": "aa9f8ce70b79a5bd",
   "metadata": {
    "ExecuteTime": {
     "start_time": "2023-08-03T05:42:05.461587Z"
    },
    "collapsed": false
   },
   "outputs": [],
   "source": [
    "\" -\".lstrip()"
   ]
  },
  {
   "cell_type": "code",
   "execution_count": null,
   "id": "db4e4f8272e8bb80",
   "metadata": {
    "ExecuteTime": {
     "start_time": "2023-08-03T05:42:05.462550Z"
    },
    "collapsed": false
   },
   "outputs": [],
   "source": [
    "\"-  \".rstrip()"
   ]
  },
  {
   "cell_type": "markdown",
   "id": "d576b1c56f6962e7",
   "metadata": {
    "collapsed": false
   },
   "source": [
    "#### 格式化    建议使用format进行格式化"
   ]
  },
  {
   "cell_type": "code",
   "execution_count": null,
   "id": "adc22c0b4ba10630",
   "metadata": {
    "ExecuteTime": {
     "start_time": "2023-08-03T05:42:05.463591Z"
    },
    "collapsed": false
   },
   "outputs": [],
   "source": [
    "s1 = \"%s %s \" % (\"Test\", 21)\n",
    "s1"
   ]
  },
  {
   "cell_type": "code",
   "execution_count": null,
   "id": "c3b42b71c72c9e09",
   "metadata": {
    "ExecuteTime": {
     "start_time": "2023-08-03T05:42:05.464333Z"
    },
    "collapsed": false
   },
   "outputs": [],
   "source": [
    "s2 = \"{},{}\".format(21, \"test\")\n",
    "s2"
   ]
  },
  {
   "cell_type": "code",
   "execution_count": null,
   "id": "dfba3da77d7e919c",
   "metadata": {
    "ExecuteTime": {
     "start_time": "2023-08-03T05:42:05.465097Z"
    },
    "collapsed": false
   },
   "outputs": [],
   "source": [
    "s3 = \"{0},{1},{0}\".format(21, \"test\")\n",
    "s3"
   ]
  },
  {
   "cell_type": "code",
   "execution_count": null,
   "id": "6aa8d5701f8bd958",
   "metadata": {
    "ExecuteTime": {
     "start_time": "2023-08-03T05:42:05.465800Z"
    },
    "collapsed": false
   },
   "outputs": [],
   "source": [
    "s4 = \"{name},{age}\".format(name=\"test\", age=18)\n",
    "s4"
   ]
  },
  {
   "cell_type": "markdown",
   "id": "45a18d642ac97537",
   "metadata": {
    "collapsed": false
   },
   "source": [
    "#### 连接与分割，使用 + 连接字符，每次操作都会重新计算、开辟、释放内存，效率低，推荐使用join"
   ]
  },
  {
   "cell_type": "code",
   "execution_count": null,
   "id": "11bc3f68aa264a3a",
   "metadata": {
    "ExecuteTime": {
     "start_time": "2023-08-03T05:42:05.466493Z"
    },
    "collapsed": false
   },
   "outputs": [],
   "source": [
    "l = ['2023', '08', '03']\n",
    "s5 = '-'.join(l)\n",
    "s5"
   ]
  },
  {
   "cell_type": "code",
   "execution_count": null,
   "id": "cc2be8aeeb08dcff",
   "metadata": {
    "ExecuteTime": {
     "start_time": "2023-08-03T05:42:05.467174Z"
    },
    "collapsed": false
   },
   "outputs": [],
   "source": [
    "s5.split('-')"
   ]
  },
  {
   "cell_type": "markdown",
   "id": "ef0e33aca801e4f7",
   "metadata": {
    "collapsed": false
   },
   "source": [
    "#### 字符编码"
   ]
  },
  {
   "cell_type": "code",
   "execution_count": null,
   "id": "5880afc9482b7be2",
   "metadata": {
    "ExecuteTime": {
     "start_time": "2023-08-03T05:42:05.467987Z"
    },
    "collapsed": false
   },
   "outputs": [],
   "source": [
    "print(strSource.encode())\n",
    "print(strSource.encode('gbk'))\n",
    "print(strSource.encode().decode(\"utf8\"))\n",
    "print(strSource.encode(\"gbk\").decode(\"gbk\"))"
   ]
  },
  {
   "cell_type": "markdown",
   "id": "79f3b0e99bba3969",
   "metadata": {
    "collapsed": false
   },
   "source": [
    "### List"
   ]
  }
 ],
 "metadata": {
  "kernelspec": {
   "display_name": "kd_ksot_airflow",
   "language": "python",
   "name": "kd_ksot_airflow"
  },
  "language_info": {
   "codemirror_mode": {
    "name": "ipython",
    "version": 3
   },
   "file_extension": ".py",
   "mimetype": "text/x-python",
   "name": "python",
   "nbconvert_exporter": "python",
   "pygments_lexer": "ipython3",
   "version": "3.11.3"
  }
 },
 "nbformat": 4,
 "nbformat_minor": 5
}
