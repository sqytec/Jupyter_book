{
 "cells": [
  {
   "cell_type": "markdown",
   "id": "8849045998bb640e",
   "metadata": {},
   "source": [
    "# 基础\n",
    "## 变量\n",
    "1. 在Python 中，等号 = 是赋值语句，可以把任意数据类型赋值给变量，同一个变量可以反复赋值，而且可以是不同类型的变量"
   ]
  },
  {
   "cell_type": "code",
   "execution_count": 51,
   "id": "effc7e9f02d5282c",
   "metadata": {
    "ExecuteTime": {
     "end_time": "2023-08-02T10:19:11.824571Z",
     "start_time": "2023-08-02T10:19:11.766147Z"
    }
   },
   "outputs": [
    {
     "name": "stdout",
     "output_type": "stream",
     "text": [
      "123\n"
     ]
    }
   ],
   "source": [
    "a = 123\n",
    "print(a)"
   ]
  },
  {
   "cell_type": "code",
   "execution_count": 52,
   "id": "da01e115b0345a48",
   "metadata": {
    "ExecuteTime": {
     "end_time": "2023-08-02T10:19:11.835261Z",
     "start_time": "2023-08-02T10:19:11.771260Z"
    }
   },
   "outputs": [
    {
     "name": "stdout",
     "output_type": "stream",
     "text": [
      "abc\n"
     ]
    }
   ],
   "source": [
    "a = 'abc'\n",
    "print(a)"
   ]
  },
  {
   "cell_type": "markdown",
   "id": "5c3849e75e8f15a8",
   "metadata": {},
   "source": [
    "2.多个变量赋值"
   ]
  },
  {
   "cell_type": "code",
   "execution_count": 53,
   "id": "e8f4413caa2163c5",
   "metadata": {
    "ExecuteTime": {
     "end_time": "2023-08-02T10:19:11.873470Z",
     "start_time": "2023-08-02T10:19:11.775578Z"
    }
   },
   "outputs": [
    {
     "name": "stdout",
     "output_type": "stream",
     "text": [
      "a = 1, b = 1, c = 1\n"
     ]
    }
   ],
   "source": [
    "a = b = c = 1\n",
    "print('a = ' + str(a) + ', b = ' + str(b) + ', c = ' + str(c))"
   ]
  },
  {
   "cell_type": "code",
   "execution_count": 54,
   "id": "487fd4f85420841a",
   "metadata": {
    "ExecuteTime": {
     "end_time": "2023-08-02T10:19:11.874489Z",
     "start_time": "2023-08-02T10:19:11.781639Z"
    }
   },
   "outputs": [
    {
     "name": "stdout",
     "output_type": "stream",
     "text": [
      "a = 1, b = 2, c = sean\n"
     ]
    }
   ],
   "source": [
    "a, b, c = 1, 2, \"sean\"\n",
    "print('a = ' + str(a) + ', b = ' + str(b) + ', c = ' + str(c))"
   ]
  },
  {
   "cell_type": "markdown",
   "id": "68508d1ab454c15f",
   "metadata": {},
   "source": [
    "## 数据类型\n",
    "### 不可变类型\n",
    "Number（数字）、String（字符串）、Tuple（元组）\n",
    "### 可变类型\n",
    "List（列表）、Dictionary（字典）、Set（集合）\n"
   ]
  },
  {
   "cell_type": "markdown",
   "id": "8953058cd3177901",
   "metadata": {},
   "source": [
    "### Number\n",
    "#### 整型(int)\n",
    "python3中int没有长度限制，可以当成long来使用；python2中int有长度限制，且有long类型。\n",
    "#### 浮点型\n",
    "#### 复数"
   ]
  },
  {
   "cell_type": "code",
   "execution_count": 55,
   "id": "826df6b305a2a7e1",
   "metadata": {
    "collapsed": false,
    "ExecuteTime": {
     "end_time": "2023-08-02T10:19:11.877979Z",
     "start_time": "2023-08-02T10:19:11.785093Z"
    }
   },
   "outputs": [
    {
     "name": "stdout",
     "output_type": "stream",
     "text": [
      "100\n",
      "1000.0\n",
      "test\n"
     ]
    }
   ],
   "source": [
    "counter = 100  # 整型\n",
    "miles = 1000.0  # 浮点型\n",
    "name = \"test\"  # 字符串\n",
    "print(counter)\n",
    "print(miles)\n",
    "print(name)"
   ]
  },
  {
   "cell_type": "markdown",
   "id": "27faec73621b4d3b",
   "metadata": {},
   "source": [
    "#### 数字类型转换\n",
    "- int(x):将x转换为一个整数\n",
    "- float(x):将x转换为一个浮点数\n",
    "- complex(x):将x转换为一个复数，实数部分为x，虚数部分为0；\n",
    "- complex(x,y):将x、y转换为一个复数，实数部分为x，虚数部分为y。"
   ]
  },
  {
   "cell_type": "markdown",
   "source": [
    "#### 数值运算"
   ],
   "metadata": {
    "collapsed": false
   },
   "id": "8a9ef7ef7fc10ca3"
  },
  {
   "cell_type": "code",
   "execution_count": 56,
   "outputs": [
    {
     "name": "stdout",
     "output_type": "stream",
     "text": [
      "9\n",
      "2.3\n",
      "21\n",
      "0.5\n",
      "0\n",
      "2\n",
      "32\n"
     ]
    }
   ],
   "source": [
    "print(5 + 4)\n",
    "print(4.3 - 2)\n",
    "print(3 * 7)\n",
    "print(2 / 4)  # 除法，得到一个浮点数    输出0.5\n",
    "print(2 // 4)  # 除法，得到一个整数      输出0\n",
    "print(17 % 3)  #求余\n",
    "print(2 ** 5)  # 乘方"
   ],
   "metadata": {
    "collapsed": false,
    "ExecuteTime": {
     "end_time": "2023-08-02T10:19:11.884698Z",
     "start_time": "2023-08-02T10:19:11.791032Z"
    }
   },
   "id": "45a28fa7183a60a8"
  },
  {
   "cell_type": "markdown",
   "source": [
    "### 字符串"
   ],
   "metadata": {
    "collapsed": false
   },
   "id": "6d57287453a50014"
  },
  {
   "cell_type": "code",
   "execution_count": 57,
   "outputs": [],
   "source": [
    "strSource = '学习Python'"
   ],
   "metadata": {
    "collapsed": false,
    "ExecuteTime": {
     "end_time": "2023-08-02T10:19:11.884866Z",
     "start_time": "2023-08-02T10:19:11.795851Z"
    }
   },
   "id": "b86378767e03d57d"
  },
  {
   "cell_type": "markdown",
   "source": [
    "#### 切片"
   ],
   "metadata": {
    "collapsed": false
   },
   "id": "744382c8afbdeca3"
  },
  {
   "cell_type": "code",
   "execution_count": 58,
   "outputs": [
    {
     "data": {
      "text/plain": "'学'"
     },
     "execution_count": 58,
     "metadata": {},
     "output_type": "execute_result"
    }
   ],
   "source": [
    "strSource[0]"
   ],
   "metadata": {
    "collapsed": false,
    "ExecuteTime": {
     "end_time": "2023-08-02T10:19:11.893100Z",
     "start_time": "2023-08-02T10:19:11.799524Z"
    }
   },
   "id": "f4913185dee74233"
  },
  {
   "cell_type": "code",
   "execution_count": 59,
   "outputs": [
    {
     "data": {
      "text/plain": "'n'"
     },
     "execution_count": 59,
     "metadata": {},
     "output_type": "execute_result"
    }
   ],
   "source": [
    "strSource[-1]"
   ],
   "metadata": {
    "collapsed": false,
    "ExecuteTime": {
     "end_time": "2023-08-02T10:19:11.893453Z",
     "start_time": "2023-08-02T10:19:11.805465Z"
    }
   },
   "id": "6b340a2d7b392f61"
  },
  {
   "cell_type": "code",
   "execution_count": 60,
   "outputs": [
    {
     "data": {
      "text/plain": "'ython'"
     },
     "execution_count": 60,
     "metadata": {},
     "output_type": "execute_result"
    }
   ],
   "source": [
    "strSource[3:]"
   ],
   "metadata": {
    "collapsed": false,
    "ExecuteTime": {
     "end_time": "2023-08-02T10:19:11.893643Z",
     "start_time": "2023-08-02T10:19:11.810859Z"
    }
   },
   "id": "491c221a11bc480f"
  },
  {
   "cell_type": "code",
   "execution_count": 61,
   "outputs": [
    {
     "data": {
      "text/plain": "'nohtyP习学'"
     },
     "execution_count": 61,
     "metadata": {},
     "output_type": "execute_result"
    }
   ],
   "source": [
    "strSource[::-1]"
   ],
   "metadata": {
    "collapsed": false,
    "ExecuteTime": {
     "end_time": "2023-08-02T10:19:11.894879Z",
     "start_time": "2023-08-02T10:19:11.815610Z"
    }
   },
   "id": "883b97dd4df905ee"
  },
  {
   "cell_type": "markdown",
   "source": [
    "#### 替换"
   ],
   "metadata": {
    "collapsed": false
   },
   "id": "47276afbd767f4ee"
  },
  {
   "cell_type": "code",
   "execution_count": 62,
   "outputs": [
    {
     "data": {
      "text/plain": "'学习scala'"
     },
     "execution_count": 62,
     "metadata": {},
     "output_type": "execute_result"
    }
   ],
   "source": [
    "strSource.replace('Python', 'scala')"
   ],
   "metadata": {
    "collapsed": false,
    "ExecuteTime": {
     "end_time": "2023-08-02T10:19:11.895274Z",
     "start_time": "2023-08-02T10:19:11.823247Z"
    }
   },
   "id": "924975681d62c77"
  },
  {
   "cell_type": "markdown",
   "source": [
    "#### 查找"
   ],
   "metadata": {
    "collapsed": false
   },
   "id": "a94c6ff467e4a37f"
  },
  {
   "cell_type": "code",
   "execution_count": 63,
   "outputs": [
    {
     "data": {
      "text/plain": "2"
     },
     "execution_count": 63,
     "metadata": {},
     "output_type": "execute_result"
    }
   ],
   "source": [
    "strSource.find('P')  # 返回子串第一次出现的索引下标"
   ],
   "metadata": {
    "collapsed": false,
    "ExecuteTime": {
     "end_time": "2023-08-02T10:19:11.896040Z",
     "start_time": "2023-08-02T10:19:11.827201Z"
    }
   },
   "id": "da7d85c8ae311d11"
  },
  {
   "cell_type": "code",
   "execution_count": 64,
   "outputs": [
    {
     "data": {
      "text/plain": "5"
     },
     "execution_count": 64,
     "metadata": {},
     "output_type": "execute_result"
    }
   ],
   "source": [
    "strSource.find('h', 2)  # 设置从索引为2起始查找(返回的是子串实际索引位置，并不会因为从索引2开始查找使得起索引变更)"
   ],
   "metadata": {
    "collapsed": false,
    "ExecuteTime": {
     "end_time": "2023-08-02T10:19:11.896505Z",
     "start_time": "2023-08-02T10:19:11.832218Z"
    }
   },
   "id": "7d0ccd04cdf4cfe8"
  },
  {
   "cell_type": "code",
   "execution_count": 65,
   "outputs": [
    {
     "data": {
      "text/plain": "-1"
     },
     "execution_count": 65,
     "metadata": {},
     "output_type": "execute_result"
    }
   ],
   "source": [
    "strSource.find('srasd') # 查找不到子串，返回-1"
   ],
   "metadata": {
    "collapsed": false,
    "ExecuteTime": {
     "end_time": "2023-08-02T10:19:11.896863Z",
     "start_time": "2023-08-02T10:19:11.836661Z"
    }
   },
   "id": "6cae943c9c5a3aeb"
  },
  {
   "cell_type": "code",
   "execution_count": 66,
   "outputs": [
    {
     "data": {
      "text/plain": "5"
     },
     "execution_count": 66,
     "metadata": {},
     "output_type": "execute_result"
    }
   ],
   "source": [
    "strSource.index('h')"
   ],
   "metadata": {
    "collapsed": false,
    "ExecuteTime": {
     "end_time": "2023-08-02T10:19:11.897059Z",
     "start_time": "2023-08-02T10:19:11.840499Z"
    }
   },
   "id": "376c1ca02a902f64"
  },
  {
   "cell_type": "code",
   "execution_count": 67,
   "outputs": [
    {
     "ename": "ValueError",
     "evalue": "substring not found",
     "output_type": "error",
     "traceback": [
      "\u001B[0;31m---------------------------------------------------------------------------\u001B[0m",
      "\u001B[0;31mValueError\u001B[0m                                Traceback (most recent call last)",
      "Cell \u001B[0;32mIn[67], line 1\u001B[0m\n\u001B[0;32m----> 1\u001B[0m \u001B[43mstrSource\u001B[49m\u001B[38;5;241;43m.\u001B[39;49m\u001B[43mindex\u001B[49m\u001B[43m(\u001B[49m\u001B[38;5;124;43m'\u001B[39;49m\u001B[38;5;124;43msasddd\u001B[39;49m\u001B[38;5;124;43m'\u001B[39;49m\u001B[43m)\u001B[49m \u001B[38;5;66;03m# index查找不到子串时会抛异常，而find只是返回-1，不会抛异常\u001B[39;00m\n",
      "\u001B[0;31mValueError\u001B[0m: substring not found"
     ]
    }
   ],
   "source": [
    "strSource.index('sasddd') # index查找不到子串时会抛异常，而find只是返回-1，不会抛异常"
   ],
   "metadata": {
    "collapsed": false,
    "ExecuteTime": {
     "end_time": "2023-08-02T10:19:11.897294Z",
     "start_time": "2023-08-02T10:19:11.847795Z"
    }
   },
   "id": "bb3741a6253d6635"
  }
 ],
 "metadata": {
  "kernelspec": {
   "display_name": "Python 3 (ipykernel)",
   "language": "python",
   "name": "python3"
  },
  "language_info": {
   "codemirror_mode": {
    "name": "ipython",
    "version": 3
   },
   "file_extension": ".py",
   "mimetype": "text/x-python",
   "name": "python",
   "nbconvert_exporter": "python",
   "pygments_lexer": "ipython3",
   "version": "3.11.3"
  }
 },
 "nbformat": 4,
 "nbformat_minor": 5
}
