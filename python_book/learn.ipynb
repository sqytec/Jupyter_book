{
 "cells": [
  {
   "cell_type": "markdown",
   "id": "8849045998bb640e",
   "metadata": {},
   "source": [
    "# 基础\n",
    "## 变量\n",
    "1. 在Python 中，等号 = 是赋值语句，可以把任意数据类型赋值给变量，同一个变量可以反复赋值，而且可以是不同类型的变量"
   ]
  },
  {
   "cell_type": "code",
   "execution_count": 71,
   "id": "effc7e9f02d5282c",
   "metadata": {
    "ExecuteTime": {
     "end_time": "2023-08-14T10:56:41.714527Z",
     "start_time": "2023-08-14T10:56:41.507619Z"
    }
   },
   "outputs": [
    {
     "name": "stdout",
     "output_type": "stream",
     "text": [
      "123\n"
     ]
    }
   ],
   "source": [
    "a = 123\n",
    "print(a)"
   ]
  },
  {
   "cell_type": "code",
   "execution_count": 72,
   "id": "da01e115b0345a48",
   "metadata": {
    "ExecuteTime": {
     "end_time": "2023-08-14T10:56:41.869226Z",
     "start_time": "2023-08-14T10:56:41.511478Z"
    }
   },
   "outputs": [
    {
     "name": "stdout",
     "output_type": "stream",
     "text": [
      "abc\n"
     ]
    }
   ],
   "source": [
    "a = 'abc'\n",
    "print(a)"
   ]
  },
  {
   "cell_type": "markdown",
   "id": "5c3849e75e8f15a8",
   "metadata": {},
   "source": [
    "2.多个变量赋值"
   ]
  },
  {
   "cell_type": "code",
   "execution_count": 73,
   "id": "e8f4413caa2163c5",
   "metadata": {
    "ExecuteTime": {
     "end_time": "2023-08-14T10:56:41.869432Z",
     "start_time": "2023-08-14T10:56:41.514718Z"
    }
   },
   "outputs": [
    {
     "name": "stdout",
     "output_type": "stream",
     "text": [
      "a = 1, b = 1, c = 1\n"
     ]
    }
   ],
   "source": [
    "a = b = c = 1\n",
    "print('a = ' + str(a) + ', b = ' + str(b) + ', c = ' + str(c))"
   ]
  },
  {
   "cell_type": "code",
   "execution_count": 74,
   "id": "487fd4f85420841a",
   "metadata": {
    "ExecuteTime": {
     "end_time": "2023-08-14T10:56:41.872840Z",
     "start_time": "2023-08-14T10:56:41.517379Z"
    }
   },
   "outputs": [
    {
     "name": "stdout",
     "output_type": "stream",
     "text": [
      "a = 1, b = 2, c = sean\n"
     ]
    }
   ],
   "source": [
    "a, b, c = 1, 2, \"sean\"\n",
    "print('a = ' + str(a) + ', b = ' + str(b) + ', c = ' + str(c))"
   ]
  },
  {
   "cell_type": "markdown",
   "id": "68508d1ab454c15f",
   "metadata": {},
   "source": [
    "## 数据类型\n",
    "### 不可变类型\n",
    "Number（数字）、String（字符串）、Tuple（元组）\n",
    "### 可变类型\n",
    "List（列表）、Dictionary（字典）、Set（集合）\n"
   ]
  },
  {
   "cell_type": "markdown",
   "id": "8953058cd3177901",
   "metadata": {},
   "source": [
    "### Number\n",
    "#### 整型(int)\n",
    "python3中int没有长度限制，可以当成long来使用；python2中int有长度限制，且有long类型。\n",
    "#### 浮点型\n",
    "#### 复数"
   ]
  },
  {
   "cell_type": "code",
   "execution_count": 75,
   "id": "826df6b305a2a7e1",
   "metadata": {
    "collapsed": false,
    "ExecuteTime": {
     "end_time": "2023-08-14T10:56:41.873016Z",
     "start_time": "2023-08-14T10:56:41.523247Z"
    }
   },
   "outputs": [
    {
     "name": "stdout",
     "output_type": "stream",
     "text": [
      "100\n",
      "1000.0\n",
      "test\n"
     ]
    }
   ],
   "source": [
    "counter = 100  # 整型\n",
    "miles = 1000.0  # 浮点型\n",
    "name = \"test\"  # 字符串\n",
    "print(counter)\n",
    "print(miles)\n",
    "print(name)"
   ]
  },
  {
   "cell_type": "markdown",
   "id": "27faec73621b4d3b",
   "metadata": {},
   "source": [
    "#### 数字类型转换\n",
    "- int(x):将x转换为一个整数\n",
    "- float(x):将x转换为一个浮点数\n",
    "- complex(x):将x转换为一个复数，实数部分为x，虚数部分为0；\n",
    "- complex(x,y):将x、y转换为一个复数，实数部分为x，虚数部分为y。"
   ]
  },
  {
   "cell_type": "markdown",
   "id": "8a9ef7ef7fc10ca3",
   "metadata": {
    "collapsed": false
   },
   "source": [
    "#### 数值运算"
   ]
  },
  {
   "cell_type": "code",
   "execution_count": 76,
   "id": "45a28fa7183a60a8",
   "metadata": {
    "collapsed": false,
    "ExecuteTime": {
     "end_time": "2023-08-14T10:56:41.887448Z",
     "start_time": "2023-08-14T10:56:41.536988Z"
    }
   },
   "outputs": [
    {
     "name": "stdout",
     "output_type": "stream",
     "text": [
      "9\n",
      "2.3\n",
      "21\n",
      "0.5\n",
      "0\n",
      "2\n",
      "32\n"
     ]
    }
   ],
   "source": [
    "print(5 + 4)\n",
    "print(4.3 - 2)\n",
    "print(3 * 7)\n",
    "print(2 / 4)  # 除法，得到一个浮点数    输出0.5\n",
    "print(2 // 4)  # 除法，得到一个整数      输出0\n",
    "print(17 % 3)  #求余\n",
    "print(2 ** 5)  # 乘方"
   ]
  },
  {
   "cell_type": "markdown",
   "id": "6d57287453a50014",
   "metadata": {
    "collapsed": false
   },
   "source": [
    "### 字符串"
   ]
  },
  {
   "cell_type": "code",
   "execution_count": 77,
   "id": "b86378767e03d57d",
   "metadata": {
    "collapsed": false,
    "ExecuteTime": {
     "end_time": "2023-08-14T10:56:41.894649Z",
     "start_time": "2023-08-14T10:56:41.543270Z"
    }
   },
   "outputs": [],
   "source": [
    "strSource = '学习Python'"
   ]
  },
  {
   "cell_type": "markdown",
   "id": "744382c8afbdeca3",
   "metadata": {
    "collapsed": false
   },
   "source": [
    "#### 切片"
   ]
  },
  {
   "cell_type": "code",
   "execution_count": 78,
   "id": "f4913185dee74233",
   "metadata": {
    "collapsed": false,
    "ExecuteTime": {
     "end_time": "2023-08-14T10:56:41.912003Z",
     "start_time": "2023-08-14T10:56:41.549513Z"
    }
   },
   "outputs": [
    {
     "data": {
      "text/plain": "'学'"
     },
     "execution_count": 78,
     "metadata": {},
     "output_type": "execute_result"
    }
   ],
   "source": [
    "strSource[0]"
   ]
  },
  {
   "cell_type": "code",
   "execution_count": 79,
   "id": "6b340a2d7b392f61",
   "metadata": {
    "collapsed": false,
    "ExecuteTime": {
     "end_time": "2023-08-14T10:56:41.915662Z",
     "start_time": "2023-08-14T10:56:41.552509Z"
    }
   },
   "outputs": [
    {
     "data": {
      "text/plain": "'n'"
     },
     "execution_count": 79,
     "metadata": {},
     "output_type": "execute_result"
    }
   ],
   "source": [
    "strSource[-1]"
   ]
  },
  {
   "cell_type": "code",
   "execution_count": 80,
   "id": "491c221a11bc480f",
   "metadata": {
    "collapsed": false,
    "ExecuteTime": {
     "end_time": "2023-08-14T10:56:41.915824Z",
     "start_time": "2023-08-14T10:56:41.555374Z"
    }
   },
   "outputs": [
    {
     "data": {
      "text/plain": "'ython'"
     },
     "execution_count": 80,
     "metadata": {},
     "output_type": "execute_result"
    }
   ],
   "source": [
    "strSource[3:]"
   ]
  },
  {
   "cell_type": "code",
   "execution_count": 81,
   "id": "883b97dd4df905ee",
   "metadata": {
    "collapsed": false,
    "ExecuteTime": {
     "end_time": "2023-08-14T10:56:41.941111Z",
     "start_time": "2023-08-14T10:56:41.559194Z"
    }
   },
   "outputs": [
    {
     "data": {
      "text/plain": "'nohtyP习学'"
     },
     "execution_count": 81,
     "metadata": {},
     "output_type": "execute_result"
    }
   ],
   "source": [
    "strSource[::-1]"
   ]
  },
  {
   "cell_type": "markdown",
   "id": "47276afbd767f4ee",
   "metadata": {
    "collapsed": false
   },
   "source": [
    "#### 替换"
   ]
  },
  {
   "cell_type": "code",
   "execution_count": 82,
   "id": "924975681d62c77",
   "metadata": {
    "collapsed": false,
    "ExecuteTime": {
     "end_time": "2023-08-14T10:56:41.962838Z",
     "start_time": "2023-08-14T10:56:41.563084Z"
    }
   },
   "outputs": [
    {
     "data": {
      "text/plain": "'学习scala'"
     },
     "execution_count": 82,
     "metadata": {},
     "output_type": "execute_result"
    }
   ],
   "source": [
    "strSource.replace('Python', 'scala')"
   ]
  },
  {
   "cell_type": "markdown",
   "id": "a94c6ff467e4a37f",
   "metadata": {
    "collapsed": false
   },
   "source": [
    "#### 查找"
   ]
  },
  {
   "cell_type": "code",
   "execution_count": 83,
   "id": "da7d85c8ae311d11",
   "metadata": {
    "collapsed": false,
    "ExecuteTime": {
     "end_time": "2023-08-14T10:56:41.998465Z",
     "start_time": "2023-08-14T10:56:41.567210Z"
    }
   },
   "outputs": [
    {
     "data": {
      "text/plain": "2"
     },
     "execution_count": 83,
     "metadata": {},
     "output_type": "execute_result"
    }
   ],
   "source": [
    "strSource.find('P')  # 返回子串第一次出现的索引下标"
   ]
  },
  {
   "cell_type": "code",
   "execution_count": 84,
   "id": "7d0ccd04cdf4cfe8",
   "metadata": {
    "collapsed": false,
    "ExecuteTime": {
     "end_time": "2023-08-14T10:56:41.998731Z",
     "start_time": "2023-08-14T10:56:41.570669Z"
    }
   },
   "outputs": [
    {
     "data": {
      "text/plain": "5"
     },
     "execution_count": 84,
     "metadata": {},
     "output_type": "execute_result"
    }
   ],
   "source": [
    "strSource.find('h', 2)  # 设置从索引为2起始查找(返回的是子串实际索引位置，并不会因为从索引2开始查找使得起索引变更)"
   ]
  },
  {
   "cell_type": "code",
   "execution_count": 85,
   "id": "6cae943c9c5a3aeb",
   "metadata": {
    "collapsed": false,
    "ExecuteTime": {
     "end_time": "2023-08-14T10:56:42.015340Z",
     "start_time": "2023-08-14T10:56:41.572687Z"
    }
   },
   "outputs": [
    {
     "data": {
      "text/plain": "-1"
     },
     "execution_count": 85,
     "metadata": {},
     "output_type": "execute_result"
    }
   ],
   "source": [
    "strSource.find('srasd')  # 查找不到子串，返回-1"
   ]
  },
  {
   "cell_type": "code",
   "execution_count": 86,
   "id": "376c1ca02a902f64",
   "metadata": {
    "collapsed": false,
    "ExecuteTime": {
     "end_time": "2023-08-14T10:56:42.015606Z",
     "start_time": "2023-08-14T10:56:41.574883Z"
    }
   },
   "outputs": [
    {
     "data": {
      "text/plain": "5"
     },
     "execution_count": 86,
     "metadata": {},
     "output_type": "execute_result"
    }
   ],
   "source": [
    "strSource.index('h')"
   ]
  },
  {
   "cell_type": "code",
   "execution_count": 87,
   "id": "bb3741a6253d6635",
   "metadata": {
    "collapsed": false,
    "ExecuteTime": {
     "end_time": "2023-08-14T10:56:42.015683Z",
     "start_time": "2023-08-14T10:56:41.577478Z"
    }
   },
   "outputs": [],
   "source": [
    "# strSource.index('sasddd')  # index查找不到子串时会抛异常，而find只是返回-1，不会抛异常"
   ]
  },
  {
   "cell_type": "markdown",
   "id": "7eeb60e58ead7bdb",
   "metadata": {
    "collapsed": false
   },
   "source": [
    "#### 转大小写   upper()、lower()、swapcase()、capitalize()、istitle()、isupper()、islower()"
   ]
  },
  {
   "cell_type": "code",
   "execution_count": 88,
   "id": "968b2c62e615ec55",
   "metadata": {
    "collapsed": false,
    "ExecuteTime": {
     "end_time": "2023-08-14T10:56:42.025424Z",
     "start_time": "2023-08-14T10:56:41.580853Z"
    }
   },
   "outputs": [
    {
     "data": {
      "text/plain": "'学习PYTHON'"
     },
     "execution_count": 88,
     "metadata": {},
     "output_type": "execute_result"
    }
   ],
   "source": [
    "strSource.upper()"
   ]
  },
  {
   "cell_type": "code",
   "execution_count": 89,
   "id": "35add0bccdeb0522",
   "metadata": {
    "collapsed": false,
    "ExecuteTime": {
     "end_time": "2023-08-14T10:56:42.028846Z",
     "start_time": "2023-08-14T10:56:41.583215Z"
    }
   },
   "outputs": [
    {
     "data": {
      "text/plain": "'学习pYTHON'"
     },
     "execution_count": 89,
     "metadata": {},
     "output_type": "execute_result"
    }
   ],
   "source": [
    "strSource.swapcase()  # 大小写互换"
   ]
  },
  {
   "cell_type": "code",
   "execution_count": 90,
   "id": "b7be0a0b80b005b2",
   "metadata": {
    "collapsed": false,
    "ExecuteTime": {
     "end_time": "2023-08-14T10:56:42.028989Z",
     "start_time": "2023-08-14T10:56:41.586239Z"
    }
   },
   "outputs": [
    {
     "data": {
      "text/plain": "True"
     },
     "execution_count": 90,
     "metadata": {},
     "output_type": "execute_result"
    }
   ],
   "source": [
    "strSource.istitle()"
   ]
  },
  {
   "cell_type": "code",
   "execution_count": 91,
   "id": "b6a63004b67cc9f",
   "metadata": {
    "collapsed": false,
    "ExecuteTime": {
     "end_time": "2023-08-14T10:56:42.029111Z",
     "start_time": "2023-08-14T10:56:41.588701Z"
    }
   },
   "outputs": [
    {
     "data": {
      "text/plain": "False"
     },
     "execution_count": 91,
     "metadata": {},
     "output_type": "execute_result"
    }
   ],
   "source": [
    "strSource.islower()"
   ]
  },
  {
   "cell_type": "markdown",
   "id": "1d0a8ab3d34acaf1",
   "metadata": {
    "collapsed": false
   },
   "source": [
    "#### 去空格，strip()、lstrip()、rstrip()"
   ]
  },
  {
   "cell_type": "code",
   "execution_count": 92,
   "id": "d8aa08ee89bc180f",
   "metadata": {
    "collapsed": false,
    "ExecuteTime": {
     "end_time": "2023-08-14T10:56:42.050372Z",
     "start_time": "2023-08-14T10:56:41.591054Z"
    }
   },
   "outputs": [
    {
     "data": {
      "text/plain": "'学习Python'"
     },
     "execution_count": 92,
     "metadata": {},
     "output_type": "execute_result"
    }
   ],
   "source": [
    "strSource.strip()"
   ]
  },
  {
   "cell_type": "code",
   "execution_count": 93,
   "id": "aa9f8ce70b79a5bd",
   "metadata": {
    "collapsed": false,
    "ExecuteTime": {
     "end_time": "2023-08-14T10:56:42.052065Z",
     "start_time": "2023-08-14T10:56:41.594311Z"
    }
   },
   "outputs": [
    {
     "data": {
      "text/plain": "'-'"
     },
     "execution_count": 93,
     "metadata": {},
     "output_type": "execute_result"
    }
   ],
   "source": [
    "\" -\".lstrip()"
   ]
  },
  {
   "cell_type": "code",
   "execution_count": 94,
   "id": "db4e4f8272e8bb80",
   "metadata": {
    "collapsed": false,
    "ExecuteTime": {
     "end_time": "2023-08-14T10:56:42.065666Z",
     "start_time": "2023-08-14T10:56:41.597085Z"
    }
   },
   "outputs": [
    {
     "data": {
      "text/plain": "'-'"
     },
     "execution_count": 94,
     "metadata": {},
     "output_type": "execute_result"
    }
   ],
   "source": [
    "\"-  \".rstrip()"
   ]
  },
  {
   "cell_type": "markdown",
   "id": "d576b1c56f6962e7",
   "metadata": {
    "collapsed": false
   },
   "source": [
    "#### 格式化    建议使用format进行格式化"
   ]
  },
  {
   "cell_type": "code",
   "execution_count": 95,
   "id": "adc22c0b4ba10630",
   "metadata": {
    "collapsed": false,
    "ExecuteTime": {
     "end_time": "2023-08-14T10:56:42.072015Z",
     "start_time": "2023-08-14T10:56:41.600654Z"
    }
   },
   "outputs": [
    {
     "data": {
      "text/plain": "'Test 21 '"
     },
     "execution_count": 95,
     "metadata": {},
     "output_type": "execute_result"
    }
   ],
   "source": [
    "s1 = \"%s %s \" % (\"Test\", 21)\n",
    "s1"
   ]
  },
  {
   "cell_type": "code",
   "execution_count": 96,
   "id": "c3b42b71c72c9e09",
   "metadata": {
    "collapsed": false,
    "ExecuteTime": {
     "end_time": "2023-08-14T10:56:42.075422Z",
     "start_time": "2023-08-14T10:56:41.603333Z"
    }
   },
   "outputs": [
    {
     "data": {
      "text/plain": "'21,test'"
     },
     "execution_count": 96,
     "metadata": {},
     "output_type": "execute_result"
    }
   ],
   "source": [
    "s2 = \"{},{}\".format(21, \"test\")\n",
    "s2"
   ]
  },
  {
   "cell_type": "code",
   "execution_count": 97,
   "id": "dfba3da77d7e919c",
   "metadata": {
    "collapsed": false,
    "ExecuteTime": {
     "end_time": "2023-08-14T10:56:42.101049Z",
     "start_time": "2023-08-14T10:56:41.606296Z"
    }
   },
   "outputs": [
    {
     "data": {
      "text/plain": "'21,test,21'"
     },
     "execution_count": 97,
     "metadata": {},
     "output_type": "execute_result"
    }
   ],
   "source": [
    "s3 = \"{0},{1},{0}\".format(21, \"test\")\n",
    "s3"
   ]
  },
  {
   "cell_type": "code",
   "execution_count": 98,
   "id": "6aa8d5701f8bd958",
   "metadata": {
    "collapsed": false,
    "ExecuteTime": {
     "end_time": "2023-08-14T10:56:42.101323Z",
     "start_time": "2023-08-14T10:56:41.610521Z"
    }
   },
   "outputs": [
    {
     "data": {
      "text/plain": "'test,18'"
     },
     "execution_count": 98,
     "metadata": {},
     "output_type": "execute_result"
    }
   ],
   "source": [
    "s4 = \"{name},{age}\".format(name=\"test\", age=18)\n",
    "s4"
   ]
  },
  {
   "cell_type": "markdown",
   "id": "45a18d642ac97537",
   "metadata": {
    "collapsed": false
   },
   "source": [
    "#### 连接与分割，使用 + 连接字符，每次操作都会重新计算、开辟、释放内存，效率低，推荐使用join"
   ]
  },
  {
   "cell_type": "code",
   "execution_count": 99,
   "id": "11bc3f68aa264a3a",
   "metadata": {
    "collapsed": false,
    "ExecuteTime": {
     "end_time": "2023-08-14T10:56:42.108239Z",
     "start_time": "2023-08-14T10:56:41.615356Z"
    }
   },
   "outputs": [
    {
     "data": {
      "text/plain": "'2023-08-03'"
     },
     "execution_count": 99,
     "metadata": {},
     "output_type": "execute_result"
    }
   ],
   "source": [
    "l = ['2023', '08', '03']\n",
    "s5 = '-'.join(l)\n",
    "s5"
   ]
  },
  {
   "cell_type": "code",
   "execution_count": 100,
   "id": "cc2be8aeeb08dcff",
   "metadata": {
    "collapsed": false,
    "ExecuteTime": {
     "end_time": "2023-08-14T10:56:42.118501Z",
     "start_time": "2023-08-14T10:56:41.617425Z"
    }
   },
   "outputs": [
    {
     "data": {
      "text/plain": "['2023', '08', '03']"
     },
     "execution_count": 100,
     "metadata": {},
     "output_type": "execute_result"
    }
   ],
   "source": [
    "s5.split('-')"
   ]
  },
  {
   "cell_type": "markdown",
   "id": "ef0e33aca801e4f7",
   "metadata": {
    "collapsed": false
   },
   "source": [
    "#### 字符编码"
   ]
  },
  {
   "cell_type": "code",
   "execution_count": 101,
   "id": "5880afc9482b7be2",
   "metadata": {
    "collapsed": false,
    "ExecuteTime": {
     "end_time": "2023-08-14T10:56:42.128100Z",
     "start_time": "2023-08-14T10:56:41.621859Z"
    }
   },
   "outputs": [
    {
     "name": "stdout",
     "output_type": "stream",
     "text": [
      "b'\\xe5\\xad\\xa6\\xe4\\xb9\\xa0Python'\n",
      "b'\\xd1\\xa7\\xcf\\xb0Python'\n",
      "学习Python\n",
      "学习Python\n"
     ]
    }
   ],
   "source": [
    "print(strSource.encode())\n",
    "print(strSource.encode('gbk'))\n",
    "print(strSource.encode().decode(\"utf8\"))\n",
    "print(strSource.encode(\"gbk\").decode(\"gbk\"))"
   ]
  },
  {
   "cell_type": "markdown",
   "id": "79f3b0e99bba3969",
   "metadata": {
    "collapsed": false
   },
   "source": [
    "### List"
   ]
  },
  {
   "cell_type": "markdown",
   "source": [
    "列表是写在方括号 [] 之间、用逗号分隔开的元素列表，列表可以完成大多数集合类的数据结构实现。列表中元素的类型可以不相同，它支持数字，字符串甚至可以包含列表（所谓嵌套），列表中的元素是可以改变。"
   ],
   "metadata": {
    "collapsed": false
   },
   "id": "c1abd7e77b48e80e"
  },
  {
   "cell_type": "code",
   "execution_count": 102,
   "outputs": [
    {
     "name": "stdout",
     "output_type": "stream",
     "text": [
      "['Monday', 'Tuesday', 'Wednesday', 'Thursday', 'Friday']\n"
     ]
    }
   ],
   "source": [
    "Weekday = ['Monday', 'Tuesday', 'Wednesday', 'Thursday', 'Friday']\n",
    "print(Weekday)"
   ],
   "metadata": {
    "collapsed": false,
    "ExecuteTime": {
     "end_time": "2023-08-14T10:56:42.131533Z",
     "start_time": "2023-08-14T10:56:41.625006Z"
    }
   },
   "id": "97902718ba456af9"
  },
  {
   "cell_type": "code",
   "execution_count": 103,
   "outputs": [
    {
     "name": "stdout",
     "output_type": "stream",
     "text": [
      "Monday\n"
     ]
    }
   ],
   "source": [
    "print(Weekday[0])"
   ],
   "metadata": {
    "collapsed": false,
    "ExecuteTime": {
     "end_time": "2023-08-14T10:56:42.131688Z",
     "start_time": "2023-08-14T10:56:41.626761Z"
    }
   },
   "id": "e65e7b0533220c91"
  },
  {
   "cell_type": "code",
   "execution_count": 104,
   "outputs": [
    {
     "name": "stdout",
     "output_type": "stream",
     "text": [
      "2\n"
     ]
    }
   ],
   "source": [
    "# list搜索\n",
    "print(Weekday.index(\"Wednesday\"))"
   ],
   "metadata": {
    "collapsed": false,
    "ExecuteTime": {
     "end_time": "2023-08-14T10:56:42.141131Z",
     "start_time": "2023-08-14T10:56:41.629525Z"
    }
   },
   "id": "3151c325abca464d"
  },
  {
   "cell_type": "code",
   "execution_count": 105,
   "outputs": [
    {
     "name": "stdout",
     "output_type": "stream",
     "text": [
      "['Monday', 'Tuesday', 'Wednesday', 'Thursday', 'Friday', 'new']\n"
     ]
    }
   ],
   "source": [
    "# list 增加元素\n",
    "Weekday.append('new')\n",
    "print(Weekday)"
   ],
   "metadata": {
    "collapsed": false,
    "ExecuteTime": {
     "end_time": "2023-08-14T10:56:42.141327Z",
     "start_time": "2023-08-14T10:56:41.632984Z"
    }
   },
   "id": "e4d5477b6a83e563"
  },
  {
   "cell_type": "code",
   "execution_count": 106,
   "outputs": [
    {
     "name": "stdout",
     "output_type": "stream",
     "text": [
      "['Monday', 'Tuesday', 'Wednesday', 'Friday', 'new']\n"
     ]
    }
   ],
   "source": [
    "# list 删除\n",
    "Weekday.remove('Thursday')\n",
    "print(Weekday)"
   ],
   "metadata": {
    "collapsed": false,
    "ExecuteTime": {
     "end_time": "2023-08-14T10:56:42.141499Z",
     "start_time": "2023-08-14T10:56:41.635312Z"
    }
   },
   "id": "bd3a584c966976e"
  },
  {
   "cell_type": "markdown",
   "source": [
    "### Tuple\n",
    "元组（tuple）与列表类似，不同之处在于元组的元素不能修改。元组写在小括号 () 里，元素之间用逗号隔开，组中的元素类型也可以不相同。"
   ],
   "metadata": {
    "collapsed": false
   },
   "id": "579dfe43cbc9beca"
  },
  {
   "cell_type": "code",
   "execution_count": 107,
   "outputs": [],
   "source": [
    "letters = ('a', 'b', 'c', 'd', 'e', 'f', 'g')"
   ],
   "metadata": {
    "collapsed": false,
    "ExecuteTime": {
     "end_time": "2023-08-14T10:56:42.141554Z",
     "start_time": "2023-08-14T10:56:41.638428Z"
    }
   },
   "id": "751d33ab01dc11d1"
  },
  {
   "cell_type": "code",
   "execution_count": 108,
   "outputs": [
    {
     "name": "stdout",
     "output_type": "stream",
     "text": [
      "a\n"
     ]
    }
   ],
   "source": [
    "print(letters[0])"
   ],
   "metadata": {
    "collapsed": false,
    "ExecuteTime": {
     "end_time": "2023-08-14T10:56:42.148425Z",
     "start_time": "2023-08-14T10:56:41.640815Z"
    }
   },
   "id": "61ba77ec1532494b"
  },
  {
   "cell_type": "code",
   "execution_count": 109,
   "outputs": [
    {
     "name": "stdout",
     "output_type": "stream",
     "text": [
      "('a', 'b', 'c')\n"
     ]
    }
   ],
   "source": [
    "print(letters[0:3])"
   ],
   "metadata": {
    "collapsed": false,
    "ExecuteTime": {
     "end_time": "2023-08-14T10:56:42.148634Z",
     "start_time": "2023-08-14T10:56:41.644274Z"
    }
   },
   "id": "29e411194c5b16b0"
  },
  {
   "cell_type": "markdown",
   "source": [
    "### Sets\n",
    "集合（set）是一个无序不重复元素的序列，使用大括号 {} 或者 set() 函数创建集合，注意：创建一个空集合必须用 set() 而不是 {} ，因为 {} 是用来创建一个空字典。集合不能被切片也不能被索引，除了做集合运算之外，集合元素可以被添加还有删除。"
   ],
   "metadata": {
    "collapsed": false
   },
   "id": "dc636ece32c1769c"
  },
  {
   "cell_type": "code",
   "execution_count": 110,
   "outputs": [
    {
     "name": "stdout",
     "output_type": "stream",
     "text": [
      "{1, 2, 3, 4, 5}\n"
     ]
    }
   ],
   "source": [
    "a_set = {1, 2, 3, 4}\n",
    "a_set.add(5)\n",
    "print(a_set)"
   ],
   "metadata": {
    "collapsed": false,
    "ExecuteTime": {
     "end_time": "2023-08-14T10:56:42.148756Z",
     "start_time": "2023-08-14T10:56:41.647873Z"
    }
   },
   "id": "1941846e778c809"
  },
  {
   "cell_type": "code",
   "execution_count": 111,
   "outputs": [
    {
     "name": "stdout",
     "output_type": "stream",
     "text": [
      "{1, 2, 3, 4}\n"
     ]
    }
   ],
   "source": [
    "a_set.discard(5)\n",
    "print(a_set)"
   ],
   "metadata": {
    "collapsed": false,
    "ExecuteTime": {
     "end_time": "2023-08-14T10:56:42.151905Z",
     "start_time": "2023-08-14T10:56:41.650046Z"
    }
   },
   "id": "c15f884f70878ca0"
  },
  {
   "cell_type": "markdown",
   "source": [
    "### Dictionary\n",
    "字典是一种映射类型，它的元素是键值对，字典的关键字必须为不可变类型，且不能重复。创建空字典使用 {} "
   ],
   "metadata": {
    "collapsed": false
   },
   "id": "72d5ff935d9513b5"
  },
  {
   "cell_type": "code",
   "execution_count": 112,
   "outputs": [],
   "source": [
    "Logo_code = {'BIDU': 'Baidu', 'SINA': 'Sina', 'YOKU': 'Youku'}"
   ],
   "metadata": {
    "collapsed": false,
    "ExecuteTime": {
     "end_time": "2023-08-14T10:56:42.155158Z",
     "start_time": "2023-08-14T10:56:41.652462Z"
    }
   },
   "id": "fe03fa23f92ad9e"
  },
  {
   "cell_type": "code",
   "execution_count": 113,
   "outputs": [
    {
     "name": "stdout",
     "output_type": "stream",
     "text": [
      "{'BIDU': 'Baidu', 'SINA': 'Sina', 'YOKU': 'Youku'}\n"
     ]
    }
   ],
   "source": [
    "print(Logo_code)"
   ],
   "metadata": {
    "collapsed": false,
    "ExecuteTime": {
     "end_time": "2023-08-14T10:56:42.155523Z",
     "start_time": "2023-08-14T10:56:41.655377Z"
    }
   },
   "id": "7d3e61766ecb45c1"
  },
  {
   "cell_type": "code",
   "execution_count": 114,
   "outputs": [
    {
     "name": "stdout",
     "output_type": "stream",
     "text": [
      "Sina\n"
     ]
    }
   ],
   "source": [
    "print(Logo_code['SINA'])"
   ],
   "metadata": {
    "collapsed": false,
    "ExecuteTime": {
     "end_time": "2023-08-14T10:56:42.155638Z",
     "start_time": "2023-08-14T10:56:41.657344Z"
    }
   },
   "id": "165841883ee8c686"
  },
  {
   "cell_type": "code",
   "execution_count": 115,
   "outputs": [
    {
     "name": "stdout",
     "output_type": "stream",
     "text": [
      "dict_keys(['BIDU', 'SINA', 'YOKU'])\n"
     ]
    }
   ],
   "source": [
    "print(Logo_code.keys())"
   ],
   "metadata": {
    "collapsed": false,
    "ExecuteTime": {
     "end_time": "2023-08-14T10:56:42.155742Z",
     "start_time": "2023-08-14T10:56:41.659225Z"
    }
   },
   "id": "b78a067ee4234114"
  },
  {
   "cell_type": "code",
   "execution_count": 116,
   "outputs": [
    {
     "name": "stdout",
     "output_type": "stream",
     "text": [
      "dict_values(['Baidu', 'Sina', 'Youku'])\n"
     ]
    }
   ],
   "source": [
    "print(Logo_code.values())"
   ],
   "metadata": {
    "collapsed": false,
    "ExecuteTime": {
     "end_time": "2023-08-14T10:56:42.159139Z",
     "start_time": "2023-08-14T10:56:41.661345Z"
    }
   },
   "id": "d22e617e119e24f9"
  },
  {
   "cell_type": "code",
   "execution_count": 117,
   "outputs": [
    {
     "name": "stdout",
     "output_type": "stream",
     "text": [
      "3\n"
     ]
    }
   ],
   "source": [
    "print(len(Logo_code))"
   ],
   "metadata": {
    "collapsed": false,
    "ExecuteTime": {
     "end_time": "2023-08-14T10:56:42.159244Z",
     "start_time": "2023-08-14T10:56:41.663343Z"
    }
   },
   "id": "38a1543087972869"
  },
  {
   "cell_type": "markdown",
   "source": [
    "## 流程控制\n",
    "### if 语句"
   ],
   "metadata": {
    "collapsed": false
   },
   "id": "8adb8aa44605b9ea"
  },
  {
   "cell_type": "code",
   "execution_count": 118,
   "outputs": [
    {
     "name": "stdout",
     "output_type": "stream",
     "text": [
      "Negative changed to zero\n"
     ]
    }
   ],
   "source": [
    "x = -5\n",
    "if x < 0:\n",
    "    x = 0\n",
    "    print('Negative changed to zero')\n",
    "elif x == 0:\n",
    "    print('Zero')\n",
    "elif x == 1:\n",
    "    print('Single')\n",
    "else:\n",
    "    print('More')"
   ],
   "metadata": {
    "collapsed": false,
    "ExecuteTime": {
     "end_time": "2023-08-14T10:56:42.159341Z",
     "start_time": "2023-08-14T10:56:41.666431Z"
    }
   },
   "id": "9741214704465848"
  },
  {
   "cell_type": "markdown",
   "source": [
    "### for循环"
   ],
   "metadata": {
    "collapsed": false
   },
   "id": "803c59212b27c791"
  },
  {
   "cell_type": "code",
   "execution_count": 119,
   "outputs": [
    {
     "name": "stdout",
     "output_type": "stream",
     "text": [
      "当前字母： p\n",
      "当前字母： y\n",
      "当前字母： t\n",
      "当前字母： h\n",
      "当前字母： o\n",
      "当前字母： n\n"
     ]
    }
   ],
   "source": [
    "for letter in 'python':\n",
    "    print('当前字母：', letter)"
   ],
   "metadata": {
    "collapsed": false,
    "ExecuteTime": {
     "end_time": "2023-08-14T10:56:42.165619Z",
     "start_time": "2023-08-14T10:56:41.671719Z"
    }
   },
   "id": "97f5e85111287bed"
  },
  {
   "cell_type": "code",
   "execution_count": 120,
   "outputs": [
    {
     "name": "stdout",
     "output_type": "stream",
     "text": [
      "banana\n",
      "apple\n",
      "mango\n"
     ]
    }
   ],
   "source": [
    "fruits = ['banana', 'apple', 'mango']\n",
    "for fruit in fruits:\n",
    "    print(fruit)"
   ],
   "metadata": {
    "collapsed": false,
    "ExecuteTime": {
     "end_time": "2023-08-14T10:56:42.165780Z",
     "start_time": "2023-08-14T10:56:41.674731Z"
    }
   },
   "id": "b1e7bf03860bbff7"
  },
  {
   "cell_type": "code",
   "execution_count": 121,
   "outputs": [
    {
     "name": "stdout",
     "output_type": "stream",
     "text": [
      "banana\n",
      "apple\n",
      "mango\n"
     ]
    }
   ],
   "source": [
    "for index in range(len(fruits)):\n",
    "    print(fruits[index])"
   ],
   "metadata": {
    "collapsed": false,
    "ExecuteTime": {
     "end_time": "2023-08-14T10:56:42.165886Z",
     "start_time": "2023-08-14T10:56:41.677458Z"
    }
   },
   "id": "9f2085ea22fea01d"
  },
  {
   "cell_type": "markdown",
   "source": [
    "### while循环"
   ],
   "metadata": {
    "collapsed": false
   },
   "id": "c7352cc94b7c2da5"
  },
  {
   "cell_type": "code",
   "execution_count": 122,
   "outputs": [
    {
     "name": "stdout",
     "output_type": "stream",
     "text": [
      "0\n",
      "1\n",
      "2\n",
      "3\n",
      "4\n",
      "5\n",
      "6\n",
      "7\n",
      "8\n",
      "9\n"
     ]
    }
   ],
   "source": [
    "count = 0\n",
    "while (count < 10):\n",
    "    print(count)\n",
    "    count += 1"
   ],
   "metadata": {
    "collapsed": false,
    "ExecuteTime": {
     "end_time": "2023-08-14T10:56:42.166020Z",
     "start_time": "2023-08-14T10:56:41.680344Z"
    }
   },
   "id": "db12f44639f2d1ef"
  },
  {
   "cell_type": "code",
   "execution_count": 123,
   "outputs": [
    {
     "name": "stdout",
     "output_type": "stream",
     "text": [
      "0\n",
      "1\n",
      "2\n",
      "3\n",
      "4\n",
      "5  is not less than 5\n"
     ]
    }
   ],
   "source": [
    "count = 0\n",
    "while (count < 5):\n",
    "    print(count)\n",
    "    count += 1\n",
    "else:\n",
    "    print(count, \" is not less than 5\")"
   ],
   "metadata": {
    "collapsed": false,
    "ExecuteTime": {
     "end_time": "2023-08-14T10:56:42.166415Z",
     "start_time": "2023-08-14T10:56:41.683223Z"
    }
   },
   "id": "d506283a5d304898"
  },
  {
   "cell_type": "markdown",
   "source": [
    "### range()函数\n",
    "如果你需要一个数值序列，内置函数 range() 会很方便，它生成一个等差级数链表:\n",
    "range (start， end， scan):\n",
    "- start:计数从 start 开始。默认是从 0 开始。例如 range(5) 等价于 range(0, 5);\n",
    "- end:计数到 end 结束，但不包括 end.例如：range(0, 5) 是[0, 1, 2, 3, 4]没有 5\n",
    "- scan：每次跳跃的间距，默认为1。例如：range(0, 5) 等价于 range(0, 5, 1)"
   ],
   "metadata": {
    "collapsed": false
   },
   "id": "7e37f9b169967548"
  },
  {
   "cell_type": "code",
   "execution_count": 124,
   "outputs": [
    {
     "name": "stdout",
     "output_type": "stream",
     "text": [
      "0\n",
      "1\n",
      "2\n",
      "3\n",
      "4\n",
      "5\n",
      "range(0, 6) finish\n"
     ]
    }
   ],
   "source": [
    "for i in range(6):\n",
    "    print(i)\n",
    "print(range(6), 'finish')"
   ],
   "metadata": {
    "collapsed": false,
    "ExecuteTime": {
     "end_time": "2023-08-14T10:56:42.166517Z",
     "start_time": "2023-08-14T10:56:41.685840Z"
    }
   },
   "id": "e52e98b73fc81ffc"
  },
  {
   "cell_type": "code",
   "execution_count": 125,
   "outputs": [
    {
     "name": "stdout",
     "output_type": "stream",
     "text": [
      "5\n",
      "6\n",
      "7\n",
      "8\n",
      "9\n",
      "range(6, 10) finish\n"
     ]
    }
   ],
   "source": [
    "for i in range(5, 10):\n",
    "    print(i)\n",
    "print(range(6, 10), 'finish')"
   ],
   "metadata": {
    "collapsed": false,
    "ExecuteTime": {
     "end_time": "2023-08-14T10:56:42.166621Z",
     "start_time": "2023-08-14T10:56:41.687929Z"
    }
   },
   "id": "c09c849e2c94c3b0"
  },
  {
   "cell_type": "code",
   "execution_count": 126,
   "outputs": [
    {
     "name": "stdout",
     "output_type": "stream",
     "text": [
      "6\n",
      "8\n",
      "10\n",
      "range(6, 12, 2) finish\n"
     ]
    }
   ],
   "source": [
    "for i in range(6, 12, 2):\n",
    "    print(i)\n",
    "print(range(6, 12, 2), 'finish')"
   ],
   "metadata": {
    "collapsed": false,
    "ExecuteTime": {
     "end_time": "2023-08-14T10:56:42.166978Z",
     "start_time": "2023-08-14T10:56:41.691727Z"
    }
   },
   "id": "ef025e57b935d557"
  },
  {
   "cell_type": "markdown",
   "source": [
    "### break用法\n",
    "break 语句可以跳出 for 和 while 的循环体。如果你从 for 或 while 循环中终止，任何对应的循环 else 块将不执行."
   ],
   "metadata": {
    "collapsed": false
   },
   "id": "bc88072df3e52a3"
  },
  {
   "cell_type": "code",
   "execution_count": 127,
   "outputs": [
    {
     "name": "stdout",
     "output_type": "stream",
     "text": [
      "当前字母： i\n",
      "当前字母： t\n",
      "当前字母： y\n",
      "当前字母： o\n",
      "当前字母： u\n",
      "当前字母： k\n"
     ]
    }
   ],
   "source": [
    "for letter in 'ityouknow':\n",
    "    if letter == 'n':\n",
    "        break\n",
    "    print('当前字母：', letter)"
   ],
   "metadata": {
    "collapsed": false,
    "ExecuteTime": {
     "end_time": "2023-08-14T10:56:42.170764Z",
     "start_time": "2023-08-14T10:56:41.694566Z"
    }
   },
   "id": "a9d2b518f1f3f0e1"
  },
  {
   "cell_type": "markdown",
   "source": [
    "### continue用法\n",
    "continue 语句被用来跳过当前循环块中的剩余语句，然后继续进行下一轮循环。"
   ],
   "metadata": {
    "collapsed": false
   },
   "id": "ad7000067fc9235f"
  },
  {
   "cell_type": "code",
   "execution_count": 128,
   "outputs": [
    {
     "name": "stdout",
     "output_type": "stream",
     "text": [
      "当前字母： i\n",
      "当前字母： t\n",
      "当前字母： y\n",
      "当前字母： o\n",
      "当前字母： u\n",
      "当前字母： k\n",
      "当前字母： o\n",
      "当前字母： w\n"
     ]
    }
   ],
   "source": [
    "for letter in 'ityouknow':\n",
    "    if letter == 'n':\n",
    "        continue\n",
    "    print('当前字母：', letter)"
   ],
   "metadata": {
    "collapsed": false,
    "ExecuteTime": {
     "end_time": "2023-08-14T10:56:42.171123Z",
     "start_time": "2023-08-14T10:56:41.698004Z"
    }
   },
   "id": "59a945c863c093be"
  },
  {
   "cell_type": "markdown",
   "source": [
    "### pass语句\n",
    "Python pass 是空语句，是为了保持程序结构的完整性。它用于那些语法上必须要有什么语句，但程序什么也不做的场合."
   ],
   "metadata": {
    "collapsed": false
   },
   "id": "622b07e6f02c2cf9"
  },
  {
   "cell_type": "code",
   "execution_count": 129,
   "outputs": [
    {
     "ename": "KeyboardInterrupt",
     "evalue": "",
     "output_type": "error",
     "traceback": [
      "\u001B[0;31m---------------------------------------------------------------------------\u001B[0m",
      "\u001B[0;31mKeyboardInterrupt\u001B[0m                         Traceback (most recent call last)",
      "Cell \u001B[0;32mIn[129], line 1\u001B[0m\n\u001B[0;32m----> 1\u001B[0m \u001B[38;5;28;01mwhile\u001B[39;00m \u001B[38;5;28;01mTrue\u001B[39;00m:\n\u001B[1;32m      2\u001B[0m     \u001B[38;5;28;01mpass\u001B[39;00m  \u001B[38;5;66;03m# Busy-wait for keyboard interrupt (Ctrl+C)\u001B[39;00m\n\u001B[1;32m      5\u001B[0m \u001B[38;5;66;03m# 这通常用于创建最小结构的类:\u001B[39;00m\n",
      "\u001B[0;31mKeyboardInterrupt\u001B[0m: "
     ]
    }
   ],
   "source": [
    "while True:\n",
    "    pass  # Busy-wait for keyboard interrupt (Ctrl+C)\n",
    "\n",
    "\n",
    "# 这通常用于创建最小结构的类:\n",
    "\n",
    "class MyEmptyClass:\n",
    "    pass"
   ],
   "metadata": {
    "collapsed": false,
    "ExecuteTime": {
     "end_time": "2023-08-14T10:57:08.841039Z",
     "start_time": "2023-08-14T10:56:41.713668Z"
    }
   },
   "id": "fcb303f4f1a4a562"
  },
  {
   "cell_type": "markdown",
   "source": [
    "## 函数"
   ],
   "metadata": {
    "collapsed": false
   },
   "id": "2d2b6d816bd9bda8"
  },
  {
   "cell_type": "code",
   "execution_count": 130,
   "outputs": [
    {
     "name": "stdout",
     "output_type": "stream",
     "text": [
      "720\n"
     ]
    }
   ],
   "source": [
    "def fact(n):\n",
    "    if n == 1:\n",
    "        return 1\n",
    "    return n * fact(n - 1)\n",
    "\n",
    "\n",
    "print(fact(6))"
   ],
   "metadata": {
    "collapsed": false,
    "ExecuteTime": {
     "end_time": "2023-08-14T10:57:13.089274Z",
     "start_time": "2023-08-14T10:57:13.070101Z"
    }
   },
   "id": "1189e6b3a8216ed1"
  },
  {
   "cell_type": "code",
   "execution_count": null,
   "outputs": [],
   "source": [],
   "metadata": {
    "collapsed": false,
    "ExecuteTime": {
     "start_time": "2023-08-14T10:57:08.842693Z"
    }
   },
   "id": "8d608bee17971f1c"
  }
 ],
 "metadata": {
  "kernelspec": {
   "display_name": "kd_ksot_airflow",
   "language": "python",
   "name": "kd_ksot_airflow"
  },
  "language_info": {
   "codemirror_mode": {
    "name": "ipython",
    "version": 3
   },
   "file_extension": ".py",
   "mimetype": "text/x-python",
   "name": "python",
   "nbconvert_exporter": "python",
   "pygments_lexer": "ipython3",
   "version": "3.11.3"
  }
 },
 "nbformat": 4,
 "nbformat_minor": 5
}
