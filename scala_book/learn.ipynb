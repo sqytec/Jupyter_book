{
 "cells": [
  {
   "cell_type": "code",
   "execution_count": 1,
   "id": "5fbed01fe5dfa477",
   "metadata": {
    "ExecuteTime": {
     "end_time": "2023-07-31T04:52:09.671741Z",
     "start_time": "2023-07-31T04:52:06.039466Z"
    }
   },
   "outputs": [
    {
     "data": {
      "text/plain": [
       "\u001B[36mlist\u001B[39m: \u001B[32mList\u001B[39m[\u001B[32mInt\u001B[39m] = \u001B[33mList\u001B[39m(\u001B[32m1\u001B[39m, \u001B[32m3\u001B[39m, \u001B[32m4\u001B[39m, \u001B[32m5\u001B[39m)\n",
       "\u001B[36mres1_1\u001B[39m: \u001B[32mList\u001B[39m[\u001B[32mInt\u001B[39m] = \u001B[33mList\u001B[39m(\u001B[32m1\u001B[39m, \u001B[32m3\u001B[39m, \u001B[32m4\u001B[39m, \u001B[32m5\u001B[39m)"
      ]
     },
     "execution_count": 1,
     "metadata": {},
     "output_type": "execute_result"
    }
   ],
   "source": [
    "val list = List(1,3,4,5)\n",
    "list"
   ]
  },
  {
   "cell_type": "code",
   "execution_count": 2,
   "id": "9deaa7be7277db9e",
   "metadata": {
    "ExecuteTime": {
     "end_time": "2023-07-31T04:52:10.597809Z",
     "start_time": "2023-07-31T04:52:09.682697Z"
    }
   },
   "outputs": [
    {
     "data": {
      "text/plain": [
       "\u001B[36mres2\u001B[39m: \u001B[32mInt\u001B[39m = \u001B[32m1\u001B[39m"
      ]
     },
     "execution_count": 2,
     "metadata": {},
     "output_type": "execute_result"
    }
   ],
   "source": [
    "list.head"
   ]
  },
  {
   "cell_type": "code",
   "execution_count": null,
   "id": "3793a3944b9277d0",
   "metadata": {
    "ExecuteTime": {
     "end_time": "2023-07-31T04:52:10.661527Z",
     "start_time": "2023-07-31T04:52:10.604310Z"
    }
   },
   "outputs": [],
   "source": []
  }
 ],
 "metadata": {
  "kernelspec": {
   "display_name": "Scala",
   "language": "scala",
   "name": "scala"
  },
  "language_info": {
   "codemirror_mode": "text/x-scala",
   "file_extension": ".sc",
   "mimetype": "text/x-scala",
   "name": "scala",
   "nbconvert_exporter": "script",
   "version": "2.13.11"
  }
 },
 "nbformat": 4,
 "nbformat_minor": 5
}
